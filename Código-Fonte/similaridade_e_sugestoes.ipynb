{
 "cells": [
  {
   "cell_type": "code",
   "execution_count": null,
   "id": "2658ef66",
   "metadata": {},
   "outputs": [],
   "source": [
    "#pip install typing_extensions==4.7.1 --upgrade"
   ]
  },
  {
   "cell_type": "code",
   "execution_count": null,
   "id": "d0a3f5c3",
   "metadata": {},
   "outputs": [],
   "source": [
    "#pip install spacy"
   ]
  },
  {
   "cell_type": "code",
   "execution_count": null,
   "id": "ba08e24a",
   "metadata": {},
   "outputs": [],
   "source": [
    "#!python -m spacy download pt\n",
    "!python -m spacy download pt_core_news_lg"
   ]
  },
  {
   "cell_type": "code",
   "execution_count": null,
   "id": "c2e4f522",
   "metadata": {
    "scrolled": true
   },
   "outputs": [],
   "source": [
    "pip install import-ipynb\n"
   ]
  },
  {
   "cell_type": "code",
   "execution_count": null,
   "id": "395f55f9",
   "metadata": {},
   "outputs": [],
   "source": [
    "pip install rank-bm25"
   ]
  },
  {
   "cell_type": "code",
   "execution_count": null,
   "id": "d4c6724b",
   "metadata": {
    "scrolled": true
   },
   "outputs": [],
   "source": [
    "import re\n",
    "import pandas as pd\n",
    "import numpy as np\n",
    "import import_ipynb\n",
    "import util as u\n",
    "from sklearn.feature_extraction.text import CountVectorizer\n",
    "from sklearn.feature_extraction.text import TfidfVectorizer\n",
    "from sklearn.metrics.pairwise import cosine_similarity\n",
    "import nltk \n",
    "from nltk.corpus import stopwords\n",
    "nltk.download('stopwords')\n",
    "pd.options.mode.chained_assignment = None\n",
    "import warnings\n",
    "import random\n",
    "import string\n",
    "from rank_bm25 import BM25Okapi\n",
    "import matplotlib as plt\n",
    "import spacy\n",
    "nlp = spacy.load('pt_core_news_lg')\n",
    "\n",
    "warnings.filterwarnings(\"ignore\")"
   ]
  },
  {
   "cell_type": "code",
   "execution_count": null,
   "id": "a6ac6ffc",
   "metadata": {},
   "outputs": [],
   "source": [
    "def get_index_materia(DataFrameMaterias,CodigoMateria):\n",
    "    return DataFrameMaterias[DataFrameMaterias.CodigoMateria == int(CodigoMateria)].index.values[0]"
   ]
  },
  {
   "cell_type": "code",
   "execution_count": null,
   "id": "ef4e8b38",
   "metadata": {},
   "outputs": [],
   "source": [
    "def is_materia_tramitando(CodigoMateria):\n",
    "    url = \"https://legis.senado.leg.br/dadosabertos/materia/situacaoatual/%d\" % CodigoMateria\n",
    "    df = u.parse_XML(url,[\"Tramitando\"],\"Materias/Materia\")\n",
    "    tramitando = df[\"Tramitando\"].item()\n",
    "    if tramitando == \"Sim\":\n",
    "        return 1\n",
    "    return 0"
   ]
  },
  {
   "cell_type": "code",
   "execution_count": null,
   "id": "62c6e618",
   "metadata": {},
   "outputs": [],
   "source": [
    "def get_materia_from_index(DataFrameMaterias,index):    \n",
    "    return DataFrameMaterias.iloc[[index]][['CodigoMateria','Identificacao']]"
   ]
  },
  {
   "cell_type": "code",
   "execution_count": null,
   "id": "bf7081e4",
   "metadata": {},
   "outputs": [],
   "source": [
    "def get_lista_similares(DataFrameCosine,DataFrameMaterias,CodigoMateria):\n",
    "    \n",
    "    indice = get_index_materia(DataFrameMaterias,CodigoMateria)\n",
    "    similares = list(enumerate(DataFrameCosine[indice]))\n",
    "    similares = sorted(similares, key=lambda x:x[1], reverse=True)\n",
    "    materias = pd.DataFrame()\n",
    "    achou = 0    \n",
    "    for similar in similares:        \n",
    "        materia = get_materia_from_index(DataFrameMaterias,similar[0])               \n",
    "        materia['similaridade'] = similar[1]\n",
    "        materias = pd.concat([materias,materia])\n",
    "        achou = achou+1\n",
    "        if achou>5:\n",
    "            break\n",
    "    #materias = materias[materias['CodigoMateria'] != CodigoMateria]\n",
    "    return materias"
   ]
  },
  {
   "cell_type": "code",
   "execution_count": null,
   "id": "2253092c",
   "metadata": {},
   "outputs": [],
   "source": [
    "def get_lista_similares_tramitando(DataFrameCosine,DataFrameMaterias,CodigoMateria):\n",
    "    \n",
    "    indice = get_index_materia(DataFrameMaterias,CodigoMateria)\n",
    "    similares = list(enumerate(DataFrameCosine[indice]))\n",
    "    similares = sorted(similares, key=lambda x:x[1], reverse=True)\n",
    "    materias = pd.DataFrame()\n",
    "    achou = 0    \n",
    "    for similar in similares:        \n",
    "        materia = get_materia_from_index(DataFrameMaterias,similar[0])               \n",
    "        materia['similaridade'] = similar[1]\n",
    "        ident = materia['Identificacao'].values[0]\n",
    "        if ((is_materia_tramitando(materia['CodigoMateria']) == 1)  & ident.startswith(\"P\")):\n",
    "            materias = pd.concat([materias,materia])\n",
    "            achou = achou+1\n",
    "            if achou>5:\n",
    "                break\n",
    "    #materias = materias[materias['CodigoMateria'] != CodigoMateria]\n",
    "    return materias"
   ]
  },
  {
   "cell_type": "code",
   "execution_count": null,
   "id": "0b0dbe26",
   "metadata": {},
   "outputs": [],
   "source": [
    "def get_lista_similares_tramitando_base(DataFrameCosine,DataFrameMaterias,CodigoMateria,DataFrameMateriasAlvo):\n",
    "    indice = get_index_materia(DataFrameMaterias,CodigoMateria)\n",
    "    similares = list(enumerate(DataFrameCosine[indice]))\n",
    "    similares = sorted(similares, key=lambda x:x[1], reverse=True)\n",
    "    materias = pd.DataFrame()\n",
    "    achou = 0    \n",
    "    for similar in similares:        \n",
    "        materia = get_materia_from_index(DataFrameMaterias,similar[0])               \n",
    "        materia['similaridade'] = similar[1]\n",
    "        ident = materia['Identificacao'].values[0]        \n",
    "\n",
    "        if ((is_materia_tramitando(materia['CodigoMateria']) == 1)  & ident.startswith(\"P\")) & materia.CodigoMateria.isin(DataFrameMateriasAlvo.CodigoMateria).bool():\n",
    "            materias = pd.concat([materias,materia])\n",
    "            achou = achou+1\n",
    "            if achou>5:\n",
    "                break\n",
    "        #materias = materias[materias['CodigoMateria'] != CodigoMateria]\n",
    "    return materias"
   ]
  },
  {
   "cell_type": "code",
   "execution_count": null,
   "id": "6a8a72cc",
   "metadata": {},
   "outputs": [],
   "source": [
    "def get_lista_similares_tramitando_base_2(DataFrameCosine,DataFrameMaterias,CodigoMateria,DataFrameMateriasAlvo):\n",
    "    \n",
    "    indice = get_index_materia(DataFrameMaterias,CodigoMateria)    \n",
    "    similares = list(enumerate(DataFrameCosine[indice]))    \n",
    "    similares = sorted(similares, key=lambda x:x[1], reverse=True)        \n",
    "    df_similares = pd.DataFrame(similares, columns=['Indice', 'ValorSimilaridade'])    \n",
    "    df_similares = df_similares.set_index('Indice')    \n",
    "    DataFrameMaterias_filtrado = DataFrameMaterias.loc[df_similares.index]    \n",
    "    DataFrameMaterias_filtrado['ValorSimilaridade'] = df_similares['ValorSimilaridade']\n",
    "    # DataFrameMaterias_filtrado agora contém as linhas filtradas com a coluna de similaridade\n",
    "\n",
    "    #Filtra para conter apenas os valores contidos em DataFrameMateriasAlvo\n",
    "    condicao = DataFrameMaterias_filtrado['CodigoMateria'].isin(DataFrameMateriasAlvo['CodigoMateria'])\n",
    "    DataFrameMaterias_filtrado = DataFrameMaterias_filtrado[condicao]\n",
    "\n",
    "    #Filtra para conter apenas as matérias que começam com P\n",
    "    DataFrameMaterias_filtrado = DataFrameMaterias_filtrado[DataFrameMaterias_filtrado['Identificacao'].str.startswith('P')]\n",
    "\n",
    "    \n",
    "    materias = pd.DataFrame()\n",
    "    achou = 0;    \n",
    "    for indice, row in DataFrameMaterias_filtrado.iterrows():\n",
    "        codigo_materia_pesquisada = row[\"CodigoMateria\"]            \n",
    "        #esta_tramitando = is_materia_tramitando(codigo_materia_pesquisada)\n",
    "        esta_tramitando = row[\"Tramitando\"]\n",
    "        #print('Está:'+esta_tramitando)\n",
    "        if (esta_tramitando == \"Sim\"):             \n",
    "            #materias = materias.append(row)            \n",
    "            #print(pd.DataFrame(row).T)\n",
    "            materias = pd.concat([materias,pd.DataFrame(row).T])\n",
    "            achou = achou + 1    \n",
    "\n",
    "        if achou >= 5:            \n",
    "            break  \n",
    "    \n",
    "    materias = materias[materias['CodigoMateria'] != CodigoMateria]\n",
    "    return materias"
   ]
  },
  {
   "cell_type": "code",
   "execution_count": null,
   "id": "feae9188",
   "metadata": {},
   "outputs": [],
   "source": [
    "def get_materias_similares_bm25(DataFrameMateriasOriginal,QueryString, Bm25Inicializado, DataFrameAlvo):    \n",
    "    bm25 = Bm25Inicializado\n",
    "    query = QueryString\n",
    "    \n",
    "    query = query.translate(str.maketrans('', '', string.punctuation)).replace('\\n',' ').lower()\n",
    "    tokenized_query = query.split(\" \")\n",
    "    bm25_scores = bm25.get_scores(tokenized_query)\n",
    "    descending_indices = (-bm25_scores).argsort()\n",
    "    dataframe_filtrado = DataFrameMateriasOriginal.filter(items = descending_indices, axis=0)\n",
    "    dataframe_filtrado = dataframe_filtrado[dataframe_filtrado['Identificacao'].str.startswith('P')]\n",
    "    achou = 0\n",
    "    total_escapa = 0\n",
    "    df_retorno = pd.DataFrame()\n",
    "    for index, row in dataframe_filtrado.iterrows():\n",
    "        \n",
    "        if DataFrameAlvo['CodigoMateria'].isin([row['CodigoMateria']]).any():        \n",
    "            achou = achou + 1\n",
    "            #print('Achei,',row['CodigoMateria'])\n",
    "            df_retorno = pd.concat([df_retorno,pd.DataFrame(row).T])\n",
    "        total_escapa = total_escapa + 1\n",
    "        \n",
    "        if achou >= 5:\n",
    "            break\n",
    "        if total_escapa > 1000:\n",
    "            print('escapei achando',achou)\n",
    "            break\n",
    "    return df_retorno    "
   ]
  },
  {
   "cell_type": "code",
   "execution_count": null,
   "id": "36d88e42",
   "metadata": {},
   "outputs": [],
   "source": [
    "def get_situacao_materia(codigo_materia):\n",
    "    url = \"https://legis.senado.leg.br/dadosabertos/materia/situacaoatual/%d\" % codigo_materia\n",
    "    df = u.parse_XML(url,[\"Autuacoes/Autuacao/Situacoes/Situacao/DescricaoSituacao\",\"Autuacoes/Autuacao/Local/SiglaLocal\"],\"Materias/Materia/SituacaoAtual\")\n",
    "    df.rename(columns = {'Autuacoes/Autuacao/Situacoes/Situacao/DescricaoSituacao' : 'Situacao'}, inplace = True)\n",
    "    df.rename(columns = {'Autuacoes/Autuacao/Local/SiglaLocal' : 'Local'}, inplace = True)\n",
    "    df['CodigoMateria'] = codigo_materia\n",
    "    df.set_index('CodigoMateria')\n",
    "    return df"
   ]
  },
  {
   "cell_type": "code",
   "execution_count": null,
   "id": "13365416",
   "metadata": {},
   "outputs": [],
   "source": [
    "#define a function for preprocessing\n",
    "def limpar_texto(text):    \n",
    "    text = text.lower() #changes to lower case\n",
    "    doc = nlp(text)\n",
    "    #cleaned_tokens = [token.lemma_ for token in doc if token.pos_ == \"NOUN\" and token.text not in lista_stop_words and token.text not in string.punctuation and not token.text.isnumeric()]\n",
    "    cleaned_tokens = [token.lemma_ for token in doc if token.is_alpha and (token.pos_ == \"NOUN\" or token.pos_ == \"VERB\")]    \n",
    "    cleaned_text = \" \".join(cleaned_tokens)\n",
    "    return cleaned_text"
   ]
  },
  {
   "cell_type": "code",
   "execution_count": null,
   "id": "70cf325c",
   "metadata": {},
   "outputs": [],
   "source": [
    "get_situacao_materia(145390)"
   ]
  },
  {
   "cell_type": "markdown",
   "id": "3a06881b",
   "metadata": {},
   "source": [
    "### Leitura  das matérias já alimentadas com os detalhes"
   ]
  },
  {
   "cell_type": "code",
   "execution_count": null,
   "id": "7a6ba9e6",
   "metadata": {},
   "outputs": [],
   "source": [
    "df_detalhes_materias = pd.read_csv(\"df_detalhes_materias.csv\",sep=\",\")\n",
    "#df_detalhes_materias = df_detalhes_materias.set_index('CodigoMateria')"
   ]
  },
  {
   "cell_type": "code",
   "execution_count": null,
   "id": "e5a73cc3",
   "metadata": {},
   "outputs": [],
   "source": [
    "df_detalhes_materias"
   ]
  },
  {
   "cell_type": "markdown",
   "id": "443e056a",
   "metadata": {},
   "source": [
    "### Junção das características em uma única coluna"
   ]
  },
  {
   "cell_type": "code",
   "execution_count": null,
   "id": "824770bf",
   "metadata": {},
   "outputs": [],
   "source": [
    "#Cria a coluna combinacao com a junção das propriedades\n",
    "df_detalhes_materias['combinacao'] = ''\n",
    "propriedades = ['Ementa', 'Indexacao', 'Natureza', 'Classe','ClasseHierarquica']\n",
    "for p in propriedades:\n",
    "    df_detalhes_materias[p] = df_detalhes_materias[p].fillna('')\n",
    "    df_detalhes_materias['combinacao'] = df_detalhes_materias['combinacao'] + df_detalhes_materias[p]\n"
   ]
  },
  {
   "cell_type": "code",
   "execution_count": null,
   "id": "aaebf323",
   "metadata": {},
   "outputs": [],
   "source": [
    "lista_stop_words = stopwords.words('portuguese') + ['lei','altera','modifica']"
   ]
  },
  {
   "cell_type": "code",
   "execution_count": null,
   "id": "3bc033f4",
   "metadata": {},
   "outputs": [],
   "source": [
    "lista_stop_words"
   ]
  },
  {
   "cell_type": "code",
   "execution_count": null,
   "id": "00c0b8fa",
   "metadata": {},
   "outputs": [],
   "source": [
    "# Removendo acentos,caracteres especiais e números\n",
    "df_detalhes_materias['combinacao'] = df_detalhes_materias['combinacao'].str.replace('[,.:;!?]+', ' ', regex=True).copy()\n",
    "df_detalhes_materias['combinacao'] = df_detalhes_materias['combinacao'].str.replace ('[/<>()|\\+\\-\\$%&#@\\'\\\"]+', ' ', regex=True).copy()\n",
    "df_detalhes_materias['combinacao'] = df_detalhes_materias['combinacao'].str.replace('[0-9]+', '', regex=True).copy()\n",
    "df_detalhes_materias['combinacao'] = df_detalhes_materias['combinacao'].str.lower()"
   ]
  },
  {
   "cell_type": "code",
   "execution_count": null,
   "id": "e3e22ec5",
   "metadata": {},
   "outputs": [],
   "source": [
    "df_detalhes_materias['combinacao_clean'] = df_detalhes_materias['combinacao'].apply(limpar_texto)"
   ]
  },
  {
   "cell_type": "code",
   "execution_count": null,
   "id": "ec26b823",
   "metadata": {},
   "outputs": [],
   "source": [
    "df_detalhes_materias[df_detalhes_materias['CodigoMateria'] == 236]"
   ]
  },
  {
   "cell_type": "code",
   "execution_count": null,
   "id": "f85d3ff8",
   "metadata": {},
   "outputs": [],
   "source": [
    "df_detalhes_materias.to_csv('df_detalhes_materias.csv',index = False)"
   ]
  },
  {
   "cell_type": "markdown",
   "id": "d8fecc3c",
   "metadata": {},
   "source": [
    "### Cálculo da similaridade com texto sem lematização"
   ]
  },
  {
   "cell_type": "code",
   "execution_count": null,
   "id": "b354f35b",
   "metadata": {},
   "outputs": [],
   "source": [
    "# Contagem da frequência das palavras, eliminando números e caracteres especiais\n",
    "#cv = CountVectorizer(token_pattern=\"[^\\W\\d_]+\")\n",
    "#cv = CountVectorizer(stop_words=lista_stop_words)\n",
    "cv = TfidfVectorizer(stop_words=lista_stop_words, use_idf=True)\n",
    "count_matrix = cv.fit_transform(df_detalhes_materias[\"combinacao\"])\n",
    "cosine_sim_normal = cosine_similarity(count_matrix)\n",
    "cosine_sim_normal = cosine_sim_normal.astype(np.float32)"
   ]
  },
  {
   "cell_type": "markdown",
   "id": "b0a7f324",
   "metadata": {},
   "source": [
    "### Cálculo da similaridade com texto lemmatizado"
   ]
  },
  {
   "cell_type": "code",
   "execution_count": null,
   "id": "9434a833",
   "metadata": {},
   "outputs": [],
   "source": [
    "# Contagem da frequência das palavras, eliminando números e caracteres especiais\n",
    "#cv = CountVectorizer(token_pattern=\"[^\\W\\d_]+\")\n",
    "#cv = CountVectorizer(stop_words=lista_stop_words)\n",
    "cv = TfidfVectorizer(stop_words=lista_stop_words, use_idf=True)\n",
    "count_matrix = cv.fit_transform(df_detalhes_materias[\"combinacao_clean\"])\n",
    "cosine_sim = cosine_similarity(count_matrix)\n",
    "cosine_sim = cosine_sim.astype(np.float32)"
   ]
  },
  {
   "cell_type": "code",
   "execution_count": null,
   "id": "45fca9f8",
   "metadata": {},
   "outputs": [],
   "source": [
    "cosine_sim"
   ]
  },
  {
   "cell_type": "code",
   "execution_count": null,
   "id": "885f5e0d",
   "metadata": {},
   "outputs": [],
   "source": [
    "# Verificar o vetor contador de palavras\n",
    "pd.DataFrame(count_matrix.toarray(),columns=cv.get_feature_names_out ())"
   ]
  },
  {
   "cell_type": "code",
   "execution_count": null,
   "id": "cad67822",
   "metadata": {},
   "outputs": [],
   "source": [
    "#df_similaridade = pd.DataFrame(cosine_sim, \n",
    "#             index=df_detalhes_materias.index, columns=df_detalhes_materias.index)\n",
    "df_similaridade = pd.DataFrame(cosine_sim)"
   ]
  },
  {
   "cell_type": "code",
   "execution_count": null,
   "id": "57b76f6d",
   "metadata": {},
   "outputs": [],
   "source": [
    "df_similaridade"
   ]
  },
  {
   "cell_type": "code",
   "execution_count": null,
   "id": "c271d4cd",
   "metadata": {},
   "outputs": [],
   "source": [
    "df_similaridade.to_csv('df_similaridade.csv')"
   ]
  },
  {
   "cell_type": "markdown",
   "id": "299937af",
   "metadata": {},
   "source": [
    "## Cálculo de similaridade usando bi-grama com texto sem lematização"
   ]
  },
  {
   "cell_type": "code",
   "execution_count": null,
   "id": "d3d5e482",
   "metadata": {},
   "outputs": [],
   "source": [
    "cv = CountVectorizer(stop_words=lista_stop_words)\n",
    "count_matrix = cv.fit_transform(df_detalhes_materias[\"combinacao\"])\n",
    "cosine_sim_bigrama_normal = cosine_similarity(count_matrix)\n",
    "cosine_sim_bigrama_normal = cosine_sim_bigrama_normal.astype('float32')"
   ]
  },
  {
   "cell_type": "markdown",
   "id": "8d8ccb72",
   "metadata": {},
   "source": [
    "## Cálculo de similaridade usando bi-grama com texto lemmatizado"
   ]
  },
  {
   "cell_type": "code",
   "execution_count": null,
   "id": "988d07d2",
   "metadata": {},
   "outputs": [],
   "source": [
    "df_detalhes_materias"
   ]
  },
  {
   "cell_type": "code",
   "execution_count": null,
   "id": "1ebb856c",
   "metadata": {},
   "outputs": [],
   "source": [
    "cv = CountVectorizer(stop_words=lista_stop_words)\n",
    "count_matrix = cv.fit_transform(df_detalhes_materias[\"combinacao_clean\"])\n",
    "cosine_sim_bigrama = cosine_similarity(count_matrix)\n",
    "cosine_sim_bigrama = cosine_sim_bigrama.astype('float32')"
   ]
  },
  {
   "cell_type": "code",
   "execution_count": null,
   "id": "9f344b63",
   "metadata": {},
   "outputs": [],
   "source": [
    "cosine_sim_bigrama"
   ]
  },
  {
   "cell_type": "markdown",
   "id": "8223c799",
   "metadata": {},
   "source": [
    "### Teste da similaridade"
   ]
  },
  {
   "cell_type": "code",
   "execution_count": null,
   "id": "3f53c6aa",
   "metadata": {},
   "outputs": [],
   "source": [
    "# teste com similaridade de cosseno, unigrama e lematização\n",
    "codigo_materia = 139268\n",
    "get_lista_similares(cosine_sim,df_detalhes_materias,codigo_materia)       "
   ]
  },
  {
   "cell_type": "code",
   "execution_count": null,
   "id": "f2907536",
   "metadata": {},
   "outputs": [],
   "source": [
    "# teste com similaridade de cosseno, bigrama e lematização\n",
    "codigo_materia = 139268\n",
    "get_lista_similares(cosine_sim_bigrama,df_detalhes_materias,codigo_materia)       "
   ]
  },
  {
   "cell_type": "code",
   "execution_count": null,
   "id": "36b50f5a",
   "metadata": {},
   "outputs": [],
   "source": [
    "# teste com similaridade de cosseno, unigrama sem lematização\n",
    "codigo_materia = 139268\n",
    "get_lista_similares(cosine_sim_normal,df_detalhes_materias,codigo_materia)       "
   ]
  },
  {
   "cell_type": "code",
   "execution_count": null,
   "id": "e57cb102",
   "metadata": {},
   "outputs": [],
   "source": [
    "# teste com similaridade de cosseno, bigrama sem lematização\n",
    "codigo_materia = 139268\n",
    "get_lista_similares(cosine_sim_bigrama_normal,df_detalhes_materias,codigo_materia)       "
   ]
  },
  {
   "cell_type": "markdown",
   "id": "6b7889af",
   "metadata": {},
   "source": [
    "### Recomendações ao parlamentar"
   ]
  },
  {
   "cell_type": "code",
   "execution_count": null,
   "id": "0247a243",
   "metadata": {},
   "outputs": [],
   "source": [
    "df_interesse = pd.read_csv(\"interesse.csv\",sep=\",\")"
   ]
  },
  {
   "cell_type": "code",
   "execution_count": null,
   "id": "8e56b2f6",
   "metadata": {},
   "outputs": [],
   "source": [
    "df_interesse"
   ]
  },
  {
   "cell_type": "code",
   "execution_count": null,
   "id": "94a0ccae",
   "metadata": {},
   "outputs": [],
   "source": [
    "df_aux_interesse = df_interesse.set_index(\"CodigoMateria\")\n",
    "df_aux_detalhes = df_detalhes_materias.set_index(\"CodigoMateria\")\n",
    "df_aux_join = df_aux_detalhes.join(df_aux_interesse)\n",
    "df_aux_join"
   ]
  },
  {
   "cell_type": "code",
   "execution_count": null,
   "id": "41e8b1e0",
   "metadata": {},
   "outputs": [],
   "source": [
    "# RODRIGO CUNHA\n",
    "#codigo_parlamentar = 5905\n",
    "\n",
    "# HEINZE\n",
    "#codigo_parlamentar = 1186\n",
    "\n",
    "#GIRÃO\n",
    "#codigo_parlamentar = 5976\n",
    "\n",
    "#PLINIO\n",
    "codigo_parlamentar = 5502\n",
    "\n",
    "df_dez_interessantes = df_aux_join.query('CodigoParlamentar == %d & Identificacao.str.startswith(\"P\") & not ClasseHierarquica.str.contains(\"Honorífico\") &  not ClasseHierarquica.str.contains(\"Orçamento Anual\") &  not Natureza.str.contains(\"Concessão\")' % codigo_parlamentar).sort_values(\"interesse\",ascending=False).head(10)\n",
    "#df_interesse = df_interesse.set_index('CodigoMateria')\n",
    "df_top_similares = pd.DataFrame()\n",
    "for index,row in df_dez_interessantes.iterrows():\n",
    "    codigo_materia = index\n",
    "    df_materia_pesquisada = df_detalhes_materias.query('CodigoMateria == %d' % codigo_materia)  \n",
    "    \n",
    "    #print (codigo_materia)\n",
    "    #print(df_materia_pesquisada)\n",
    "    print ('\\n*********************\\nSimilares à matéria %s - codigo %d  - %s\\n********************\\n' % (df_materia_pesquisada['Identificacao'].values[0],codigo_materia,df_materia_pesquisada['Ementa'].values[0]) )\n",
    "    similares_pesquisadas = get_lista_similares_tramitando(cosine_sim,df_detalhes_materias,codigo_materia) \n",
    "    similares_pesquisadas = similares_pesquisadas[similares_pesquisadas['CodigoMateria'] != codigo_materia]\n",
    "    df_top_similares = pd.concat([df_top_similares,similares_pesquisadas])\n",
    "    print(similares_pesquisadas.head(5))\n",
    "\n",
    "print ('\\n*********************\\nMatérias de mais similaridade para o parlamentar \\n********************\\n' )    \n",
    "df_top_similares.sort_values(\"similaridade\",ascending=False).head(10)"
   ]
  },
  {
   "cell_type": "code",
   "execution_count": null,
   "id": "d0fe5325",
   "metadata": {},
   "outputs": [],
   "source": [
    "# RODRIGO CUNHA\n",
    "#codigo_parlamentar = 5905\n",
    "\n",
    "# HEINZE\n",
    "#codigo_parlamentar = 1186\n",
    "\n",
    "#GIRÃO\n",
    "#codigo_parlamentar = 5976\n",
    "\n",
    "#PLINIO\n",
    "codigo_parlamentar = 5502\n",
    "\n",
    "df_dez_interessantes = df_aux_join.query('CodigoParlamentar == %d & Identificacao.str.startswith(\"P\") & not ClasseHierarquica.str.contains(\"Honorífico\") &  not ClasseHierarquica.str.contains(\"Orçamento Anual\") &  not Natureza.str.contains(\"Concessão\")' % codigo_parlamentar).sort_values(\"interesse\",ascending=False).head(5)\n",
    "#df_interesse = df_interesse.set_index('CodigoMateria')\n",
    "df_top_similares = pd.DataFrame()\n",
    "i=0\n",
    "print('<html> <head> <meta charset=\"utf-8\" /> <meta http-equiv=\"X-UA-Compatible\" content=\"IE=edge\"> <title>Sugestões</title> <meta name=\"viewport\" content=\"width=device-width, initial-scale=1\"> <script defer src=\"https://use.fontawesome.com/releases/v5.1.0/js/all.js\" integrity=\"sha384-3LK/3kTpDE/Pkp8gTNp2gR/2gOiwQ6QaO7Td0zV76UFJVhqLl4Vl3KL1We6q6wR9\" crossorigin=\"anonymous\"></script> <link rel=\"stylesheet\" href=\"https://maxcdn.bootstrapcdn.com/bootstrap/3.4.1/css/bootstrap.min.css\"> <link rel=\"stylesheet\" href=\"netflix.css\"> <script src=\"https://ajax.googleapis.com/ajax/libs/jquery/3.6.3/jquery.min.js\"></script> <script src=\"https://maxcdn.bootstrapcdn.com/bootstrap/3.4.1/js/bootstrap.min.js\"></script> </head> <body> <div class=\"wrapper\"> <header> <nav class=\"main-nav\"> <h2 style=\"color: red;\">Sugestões para o Senador Rodrigo Cunha</h2> </nav> </header>')\n",
    "print('') \n",
    "print('') \n",
    "print('') \n",
    "for index,row in df_dez_interessantes.iterrows():\n",
    "    \n",
    "    \n",
    "    codigo_materia = index\n",
    "    df_materia_pesquisada = df_detalhes_materias.query('CodigoMateria == %d' % codigo_materia)    \n",
    "    \n",
    "    \n",
    "    #detalhes\n",
    "    df_detalhes_completo = u.get_detalhes_materia_completo(codigo_materia)    \n",
    "    identificacao = df_detalhes_completo['Identificacao']\n",
    "    autor = df_detalhes_completo['Autor']\n",
    "    link = df_detalhes_completo['link']\n",
    "    ementa = df_detalhes_completo['Ementa']\n",
    "    explicacao = df_detalhes_completo['ExplicacaoEmenta']\n",
    "    if(explicacao[0] is None):\n",
    "       explicacao[0] = ''\n",
    "    ####\n",
    "    i = i+1\n",
    "    print('<h3 id=\"myList\">Porque você atuou no '+identificacao[0]+' <a  data-toggle=\"modal\" href=\"#m'+str(i)+'\" class=\"btn btn-info btn-sm\">'+\n",
    "'<span class=\"glyphicon glyphicon-info-sign\"></span> Saiba mais'+\n",
    "'</a> </h3> <h5>Ementa: '+ementa[0]+'</h5>')\n",
    "    \n",
    "    print('<div class=\"modal fade\" id=\"m'+str(i)+'\" role=\"dialog\"> <div class=\"modal-dialog\"> <!-- Modal content--> <div class=\"modal-content\"> <div class=\"modal-header\" style=\"padding:35px 50px;\"> <button type=\"button\" class=\"close\" data-dismiss=\"modal\">&times;</button> <h4 class=\"modal-title\">'+identificacao[0]+' </h4> </div> <div class=\"modal-body\"> <b>Autor:</b> '+autor[0]+' <br><br> <b>Ementa:</b> '+ementa[0]+' <br><br> <b>Explicação da ementa:</b>'+explicacao[0]+' <br><br> <a href=\"'+link[0]+'\" class=\"btn btn-primary btn-sm linkmateria\" target=\"_blank\"> Página da matéria</a> </div> <div class=\"modal-footer\"> <button type=\"button\" class=\"btn btn-default\" data-dismiss=\"modal\">Close</button> </div> </div> </div> </div>')\n",
    "    \n",
    "    similares_pesquisadas = get_lista_similares_tramitando(cosine_sim,df_detalhes_materias,codigo_materia) \n",
    "    similares_pesquisadas = similares_pesquisadas[similares_pesquisadas['CodigoMateria'] != codigo_materia]\n",
    "    similares_pesquisadas = similares_pesquisadas.set_index('CodigoMateria')\n",
    "    df_top_similares = pd.concat([df_top_similares,similares_pesquisadas])\n",
    "    print('')  \n",
    "    print('<div class=\"box\">')\n",
    "    for index_pesq,row_pesq in similares_pesquisadas.iterrows():        \n",
    "        codigo_materia_pesq = index_pesq\n",
    "        df_detalhes_completo = u.get_detalhes_materia_completo(codigo_materia_pesq)\n",
    "        identificacao = df_detalhes_completo['Identificacao']\n",
    "        autor = df_detalhes_completo['Autor']\n",
    "        link = df_detalhes_completo['link']\n",
    "        ementa = df_detalhes_completo['Ementa']\n",
    "        explicacao = df_detalhes_completo['ExplicacaoEmenta']\n",
    "        if(explicacao[0] is None):\n",
    "            explicacao[0] = ''\n",
    "        i = i+1\n",
    "        print('<a data-toggle=\"modal\" href=\"#m'+str(i)+'\">'+identificacao[0]+'</a>')\n",
    "        print('<div class=\"modal fade\" id=\"m'+str(i)+'\" role=\"dialog\"> <div class=\"modal-dialog\"> <!-- Modal content--> <div class=\"modal-content\"> <div class=\"modal-header\" style=\"padding:35px 50px;\"> <button type=\"button\" class=\"close\" data-dismiss=\"modal\">&times;</button> <h4 class=\"modal-title\">'+identificacao[0]+' </h4> </div> <div class=\"modal-body\"> <b>Autor:</b> '+autor[0]+' <br><br> <b>Ementa:</b> '+ementa[0]+' <br><br> <b>Explicação da ementa:</b>'+explicacao[0]+' <br><br> <a href=\"'+link[0]+'\" class=\"btn btn-primary btn-sm linkmateria\" target=\"_blank\"> Página da matéria</a> </div> <div class=\"modal-footer\"> <button type=\"button\" class=\"btn btn-default\" data-dismiss=\"modal\">Close</button> </div> </div> </div> </div>')\n",
    "    print('</div><br><br>')\n",
    "    print('')\n",
    "    print('')\n",
    "    print('')\n",
    "        \n",
    "\n",
    "print('<!-- TOP 10 --> <section class=\"main-container\"><div class=\"location\" id=\"home\"><h1 id=\"home\">Você deve gostar de</h1><div class=\"box\">')\n",
    "\n",
    "df_top_similares = df_top_similares.sort_values(\"similaridade\",ascending=False).head(10)\n",
    "for index_pesq,row_pesq in df_top_similares.iterrows():\n",
    "        codigo_materia_pesq = index_pesq\n",
    "        df_detalhes_completo = u.get_detalhes_materia_completo(codigo_materia_pesq)\n",
    "        identificacao = df_detalhes_completo['Identificacao']\n",
    "        autor = df_detalhes_completo['Autor']\n",
    "        link = df_detalhes_completo['link']\n",
    "        ementa = df_detalhes_completo['Ementa']\n",
    "        explicacao = df_detalhes_completo['ExplicacaoEmenta']\n",
    "        if(explicacao[0] is None):\n",
    "            explicacao[0] = ''\n",
    "        i = i+1\n",
    "        \n",
    "        print('<a data-toggle=\"modal\" href=\"#m'+str(i)+'\">'+identificacao[0]+'</a>')\n",
    "        print('<div class=\"modal fade\" id=\"m'+str(i)+'\" role=\"dialog\"> <div class=\"modal-dialog\"> <!-- Modal content--> <div class=\"modal-content\"> <div class=\"modal-header\" style=\"padding:35px 50px;\"> <button type=\"button\" class=\"close\" data-dismiss=\"modal\">&times;</button> <h4 class=\"modal-title\">'+identificacao[0]+' </h4> </div> <div class=\"modal-body\"> <b>Autor:</b> '+autor[0]+' <br><br> <b>Ementa:</b> '+ementa[0]+' <br><br> <b>Explicação da ementa:</b>'+explicacao[0]+' <br><br> <a href=\"'+link[0]+'\" class=\"btn btn-primary btn-sm linkmateria\" target=\"_blank\"> Página da matéria</a> </div> <div class=\"modal-footer\"> <button type=\"button\" class=\"btn btn-default\" data-dismiss=\"modal\">Close</button> </div> </div> </div> </div>')\n",
    "        \n",
    "print('</div></div><br><br><br>')\n",
    "print('')\n",
    "print('</div> <!-- FOOTER --> <footer> <p>Versão em desenvolvimento</p> <p>Carlos Rafael</p> </footer> </div> </body> </html>')"
   ]
  },
  {
   "cell_type": "code",
   "execution_count": null,
   "id": "9d7c6cbd",
   "metadata": {},
   "outputs": [],
   "source": [
    "df_similares_da_materia.join(df_detalhes_materias_interesse_aux)"
   ]
  },
  {
   "cell_type": "code",
   "execution_count": null,
   "id": "da4f2dd7",
   "metadata": {},
   "outputs": [],
   "source": [
    "# TESTAR SIMILARIDADS \n",
    "DataFrameMaterias = df_detalhes_materias\n",
    "DataFrameCosine = cosine_sim\n",
    "CodigoMateria = 151530   \n",
    "\n",
    "indice = get_index_materia(DataFrameMaterias,CodigoMateria)\n",
    "similares = list(enumerate(DataFrameCosine[indice]))\n",
    "similares = sorted(similares, key=lambda x:x[1], reverse=True)\n",
    "similares\n"
   ]
  },
  {
   "cell_type": "code",
   "execution_count": null,
   "id": "5d3bc64d",
   "metadata": {},
   "outputs": [],
   "source": [
    "#materia = get_materia_from_index(DataFrameMaterias,7927)\n",
    "#identificacao = materia['Identificacao']\n",
    "identificacao = 'AVS 39/2018'\n",
    "codigo_materia = 134595\n",
    "#is_materia_tramitando(codigo_materia) == 1\n",
    "if (is_materia_tramitando(codigo_materia) == 1 & np.where(identificacao.startswith(\"P\"),True,False)):\n",
    "    print(is_materia_tramitando(codigo_materia) == 1)\n",
    "#if (np.where(identificacao != 'OPA', True, False)):\n",
    "#    print('opa')\n",
    "#print (identificacao == 'OPA')\n",
    "#print(str(identificacao))\n",
    "#if identificacao == 'OPA':\n",
    "#    print('opa')\n",
    "#else:\n",
    "#    print('nao - %s' % identificacao.value)\n",
    "#if (is_materia_tramitando(codigo_materia) == 1  & np.where(identificacao.startswith(\"P\"),True,False)):\n",
    "#   print('opa')\n",
    "#else:\n",
    "#    print(identificacao)"
   ]
  },
  {
   "cell_type": "code",
   "execution_count": null,
   "id": "3344e73c",
   "metadata": {},
   "outputs": [],
   "source": [
    "codigo_materia = 152146\n",
    "materias = get_lista_similares_tramitando(cosine_sim,df_detalhes_materias,codigo_materia) \n",
    "materias"
   ]
  },
  {
   "cell_type": "code",
   "execution_count": null,
   "id": "d9a89cd3",
   "metadata": {},
   "outputs": [],
   "source": [
    "DataFrameMaterias = df_detalhes_materias\n",
    "CodigoMateria = 152146\n",
    "DataFrameCosine = cosine_sim\n",
    "indice = get_index_materia(DataFrameMaterias,CodigoMateria)\n",
    "similares = list(enumerate(DataFrameCosine[indice]))\n",
    "similares = sorted(similares, key=lambda x:x[1], reverse=True)\n",
    "materias = pd.DataFrame()\n",
    "achou = 0    \n",
    "for similar in similares:        \n",
    "    materia = get_materia_from_index(DataFrameMaterias,similar[0])               \n",
    "    materia['similaridade'] = similar[1]\n",
    "    ident = materia['Identificacao'].values[0]\n",
    "    if ((is_materia_tramitando(materia['CodigoMateria']) == 1) & ident.startswith(\"P\")):\n",
    "        print (\"OK - \"+ident)\n",
    "        materias = pd.concat([materias,materia])\n",
    "        achou = achou+1\n",
    "        if achou>15:\n",
    "            break\n",
    "    else:\n",
    "        print (\"NÃO - \"+ident)"
   ]
  },
  {
   "cell_type": "code",
   "execution_count": null,
   "id": "c468d347",
   "metadata": {},
   "outputs": [],
   "source": [
    "DataFrameMaterias = df_detalhes_materias\n",
    "CodigoMateria = 139840\n",
    "DataFrameCosine = cosine_sim\n",
    "indice = get_index_materia(DataFrameMaterias,CodigoMateria)\n",
    "DataFrameCosine[indice]\n",
    "#df_similaridade\n",
    "teste_df = pd.DataFrame(count_matrix.toarray(),columns=cv.get_feature_names_out ())\n"
   ]
  },
  {
   "cell_type": "code",
   "execution_count": null,
   "id": "a39b0439",
   "metadata": {},
   "outputs": [],
   "source": [
    "#indice\n",
    "teste_df.loc[5987,:]"
   ]
  },
  {
   "cell_type": "code",
   "execution_count": null,
   "id": "07b5bf8e",
   "metadata": {},
   "outputs": [],
   "source": [
    "teste_df.loc[5987,:].to_csv('teste.csv')"
   ]
  },
  {
   "cell_type": "code",
   "execution_count": null,
   "id": "fcfc66dc",
   "metadata": {},
   "outputs": [],
   "source": [
    "df = u.get_detalhes_materia_completo(156011)\n",
    "df"
   ]
  },
  {
   "cell_type": "code",
   "execution_count": null,
   "id": "967715a1",
   "metadata": {},
   "outputs": [],
   "source": [
    "lista_stop_words = stopwords.words('portuguese')\n",
    "lista_stop_words"
   ]
  },
  {
   "cell_type": "code",
   "execution_count": null,
   "id": "62d5fce6",
   "metadata": {},
   "outputs": [],
   "source": [
    "df_similaridade_teste = pd.read_csv(\"df_similaridade.csv\",sep=\",\")"
   ]
  },
  {
   "cell_type": "code",
   "execution_count": null,
   "id": "6757bf70",
   "metadata": {},
   "outputs": [],
   "source": [
    "df_similaridade_teste.head(5).iloc[:, : 5]"
   ]
  },
  {
   "cell_type": "code",
   "execution_count": null,
   "id": "f5c9c374",
   "metadata": {},
   "outputs": [],
   "source": [
    "import matplotlib.pyplot as plt\n",
    "import pandas as pd\n",
    "from pandas.plotting import table\n",
    "\n",
    "ax = plt.subplot(111, frame_on=False)\n",
    "ax.xaxis.set_visible(False) # hide the x axis\n",
    "ax.yaxis.set_visible(False) # hide the y axis\n",
    "table(ax, df_similaridade_teste.head(5).iloc[:, : 5], loc='center') # where df is your data frame\n",
    "#plt.savefig('mytable.png')\n",
    "\n",
    "#ax = plt.subplot(111, frame_on=False) # no visible frame\n",
    "#ax.xaxis.set_visible(False) # hide the x axis\n",
    "#ax.yaxis.set_visible(False) # hide the y axis\n",
    "#table(ax, df, loc='center') # where df is your data frame\n",
    "#plt.savefig('mytable.png')"
   ]
  },
  {
   "cell_type": "code",
   "execution_count": null,
   "id": "345cdd15",
   "metadata": {},
   "outputs": [],
   "source": [
    "df_similaridade_teste"
   ]
  },
  {
   "cell_type": "markdown",
   "id": "b686ede8",
   "metadata": {},
   "source": [
    "# Testes de Eficiência/RC"
   ]
  },
  {
   "cell_type": "code",
   "execution_count": null,
   "id": "55fe25db",
   "metadata": {},
   "outputs": [],
   "source": [
    "df_detalhes_materias"
   ]
  },
  {
   "cell_type": "code",
   "execution_count": null,
   "id": "e4a5a9e2",
   "metadata": {},
   "outputs": [],
   "source": [
    "df_interesse"
   ]
  },
  {
   "cell_type": "code",
   "execution_count": null,
   "id": "e3aebe97",
   "metadata": {},
   "outputs": [],
   "source": [
    "df_interesse = df_interesse.set_index('CodigoMateria')"
   ]
  },
  {
   "cell_type": "code",
   "execution_count": null,
   "id": "75e55368",
   "metadata": {},
   "outputs": [],
   "source": [
    "df_interesse_rc = df_interesse[df_interesse['CodigoParlamentar'] == 5905]"
   ]
  },
  {
   "cell_type": "code",
   "execution_count": null,
   "id": "8f681e92",
   "metadata": {},
   "outputs": [],
   "source": [
    "df_interesse_rc = df_interesse_rc.join(df_detalhes_materias.set_index(\"CodigoMateria\"),how='left')[['CodigoParlamentar','interesse','Ementa','Identificacao','Natureza','ClasseHierarquica']]"
   ]
  },
  {
   "cell_type": "code",
   "execution_count": null,
   "id": "bbcf00d3",
   "metadata": {},
   "outputs": [],
   "source": [
    "df_interesse_rc = df_interesse_rc.dropna()"
   ]
  },
  {
   "cell_type": "code",
   "execution_count": null,
   "id": "b90aaf71",
   "metadata": {},
   "outputs": [],
   "source": [
    "df_interesse_rc['ano_materia'] = df_interesse_rc['Identificacao'].str[-4:]\n",
    "df_interesse_rc['ano_materia'] = pd.to_numeric(df_interesse_rc['ano_materia'], errors='coerce')\n",
    "df_interesse_rc.dropna(subset=['ano_materia'], inplace=True)\n",
    "df_interesse_rc = df_interesse_rc.astype({\"ano_materia\":\"int\"})"
   ]
  },
  {
   "cell_type": "code",
   "execution_count": null,
   "id": "0b0a6dcb",
   "metadata": {},
   "outputs": [],
   "source": [
    "df_interesse_rc.groupby(['ano_materia'])['ano_materia'].count()"
   ]
  },
  {
   "cell_type": "code",
   "execution_count": null,
   "id": "c4052741",
   "metadata": {},
   "outputs": [],
   "source": [
    "df_interesse_rc_treino = df_interesse_rc[df_interesse_rc['ano_materia'] <= 2021]"
   ]
  },
  {
   "cell_type": "code",
   "execution_count": null,
   "id": "03ee545e",
   "metadata": {},
   "outputs": [],
   "source": [
    "df_interesse_rc_treino.sort_values(by=['interesse'], ascending=False)"
   ]
  },
  {
   "cell_type": "code",
   "execution_count": null,
   "id": "af921dec",
   "metadata": {},
   "outputs": [],
   "source": [
    "df_interesse_rc_treino.query('Identificacao.str.startswith(\"P\") & not ClasseHierarquica.str.contains(\"Honorífico\") &  not ClasseHierarquica.str.contains(\"Orçamento Anual\") &  not Natureza.str.contains(\"Concessão\")').sort_values(\"interesse\",ascending=False).head(10)"
   ]
  },
  {
   "cell_type": "code",
   "execution_count": null,
   "id": "707f7804",
   "metadata": {},
   "outputs": [],
   "source": [
    "df_interesse_rc_verdade = df_interesse_rc[df_interesse_rc['ano_materia'] >= 2022]"
   ]
  },
  {
   "cell_type": "code",
   "execution_count": null,
   "id": "b9c1558c",
   "metadata": {},
   "outputs": [],
   "source": [
    "df_interesse_rc_verdade.sort_values(by=['interesse'], ascending=False)"
   ]
  },
  {
   "cell_type": "code",
   "execution_count": null,
   "id": "c5818c07",
   "metadata": {},
   "outputs": [],
   "source": [
    "df_detalhes_materias_aux = df_detalhes_materias\n",
    "df_detalhes_materias_aux['ano_materia'] = df_detalhes_materias_aux['Identificacao'].str[-4:]\n",
    "#df_detalhes_materias_aux = df_detalhes_materias_aux.astype({\"ano_materia\":\"int\"}, errors='coerce')\n",
    "df_detalhes_materias_aux['ano_materia'] = pd.to_numeric(df_detalhes_materias_aux['ano_materia'], errors='coerce')\n",
    "df_detalhes_materias_aux.dropna(subset=['ano_materia'], inplace=True)\n",
    "df_detalhes_materias_aux = df_detalhes_materias_aux.astype({\"ano_materia\":\"int\"}, errors='raise')\n",
    "df_detalhes_materias_aux\n",
    "df_detalhes_materias_aux = df_detalhes_materias_aux[df_detalhes_materias_aux['ano_materia'] >= 2022]"
   ]
  },
  {
   "cell_type": "code",
   "execution_count": null,
   "id": "be26f661",
   "metadata": {},
   "outputs": [],
   "source": [
    "df_detalhes_materias_aux"
   ]
  },
  {
   "cell_type": "code",
   "execution_count": null,
   "id": "393cadd3",
   "metadata": {},
   "outputs": [],
   "source": [
    "# Contagem da frequência das palavras, eliminando números e caracteres especiais\n",
    "#cv = CountVectorizer(token_pattern=\"[^\\W\\d_]+\")\n",
    "cv_aux = CountVectorizer(stop_words=lista_stop_words)\n",
    "count_matrix_aux = cv_aux.fit_transform(df_detalhes_materias_aux[\"combinacao\"])\n",
    "cosine_sim = cosine_similarity(count_matrix)\n",
    "pd.DataFrame(count_matrix.toarray(),columns=cv.get_feature_names_out ())\n",
    "df_similaridade = pd.DataFrame(cosine_sim)\n",
    "df_similaridade"
   ]
  },
  {
   "cell_type": "markdown",
   "id": "6c35aaf4",
   "metadata": {},
   "source": [
    "## Criando recomendações para as matérias de 2022"
   ]
  },
  {
   "cell_type": "code",
   "execution_count": null,
   "id": "d3983840",
   "metadata": {},
   "outputs": [],
   "source": [
    "df_interesse_rc_treino"
   ]
  },
  {
   "cell_type": "code",
   "execution_count": null,
   "id": "49cabe03",
   "metadata": {},
   "outputs": [],
   "source": [
    "df_detalhes_materias_teste"
   ]
  },
  {
   "cell_type": "code",
   "execution_count": null,
   "id": "6444175d",
   "metadata": {},
   "outputs": [],
   "source": [
    "df_aux_interesse"
   ]
  },
  {
   "cell_type": "code",
   "execution_count": null,
   "id": "196f3dd7",
   "metadata": {},
   "outputs": [],
   "source": [
    "df_aux_detalhes"
   ]
  },
  {
   "cell_type": "code",
   "execution_count": null,
   "id": "30bd3856",
   "metadata": {},
   "outputs": [],
   "source": [
    "# cria a base de testes, com matérias a partir de 2022\n",
    "df_detalhes_materias_teste = pd.DataFrame(df_detalhes_materias)\n",
    "df_detalhes_materias_teste['ano_materia'] = df_detalhes_materias_teste['Identificacao'].str[-4:]\n",
    "df_detalhes_materias_teste['ano_materia'] = pd.to_numeric(df_detalhes_materias_teste['ano_materia'], errors='coerce')\n",
    "df_detalhes_materias_teste.dropna(subset=['ano_materia'], inplace=True)\n",
    "df_detalhes_materias_teste = df_detalhes_materias_teste.astype({\"ano_materia\":\"int\"}, errors='raise')\n",
    "df_detalhes_materias_teste = df_detalhes_materias_teste[df_detalhes_materias_teste['ano_materia'] >= 2022] "
   ]
  },
  {
   "cell_type": "code",
   "execution_count": null,
   "id": "e37f40a7",
   "metadata": {},
   "outputs": [],
   "source": [
    "codigo_parlamentar = 5905\n",
    "\n",
    "\n",
    "#Pega as 10 mais interessantes dos dados de TREINO (Até 2021)\n",
    "df_dez_interessantes = df_interesse_rc_treino.query('CodigoParlamentar == %d & Identificacao.str.startswith(\"P\") & not ClasseHierarquica.str.contains(\"Honorífico\") &  not ClasseHierarquica.str.contains(\"Orçamento Anual\") &  not Natureza.str.contains(\"Concessão\")' % codigo_parlamentar).sort_values(\"interesse\",ascending=False).head(10)\n",
    "\n",
    "# Procura os similares na base de teste (A partir de 2022)\n",
    "df_top_similares_teste = pd.DataFrame()\n",
    "for index,row in df_dez_interessantes.iterrows():\n",
    "    codigo_materia = index\n",
    "    df_materia_pesquisada = df_detalhes_materias.query('CodigoMateria == %d' % codigo_materia)    \n",
    "    \n",
    "    \n",
    "    #print(codigo_materia)\n",
    "    similares_pesquisadas = get_lista_similares_tramitando_base(cosine_sim,df_detalhes_materias,codigo_materia, df_detalhes_materias_teste) \n",
    "    similares_pesquisadas = similares_pesquisadas[similares_pesquisadas['CodigoMateria'] != codigo_materia]\n",
    "    similares_pesquisadas = similares_pesquisadas.set_index('CodigoMateria')    \n",
    "    df_top_similares_teste = pd.concat([df_top_similares_teste,similares_pesquisadas])\n",
    "#df_top_similares_teste = df_top_similares_teste.sort_values(\"similaridade\",ascending=False).head(20)"
   ]
  },
  {
   "cell_type": "code",
   "execution_count": null,
   "id": "65ec0cdc",
   "metadata": {},
   "outputs": [],
   "source": [
    "df_top_similares_teste"
   ]
  },
  {
   "cell_type": "code",
   "execution_count": null,
   "id": "f121fb1a",
   "metadata": {
    "scrolled": true
   },
   "outputs": [],
   "source": [
    "# Verifica se as matérias sugeridas (df_top_similares_teste) estão na base VERDADE\n",
    "\n",
    "total_match = 0\n",
    "for index,row in df_top_similares_teste.iterrows():    \n",
    "    codigo_materia = index\n",
    "    #print (\"Vou verificar a materia: \",codigo_materia)\n",
    "    if codigo_materia in df_interesse_rc_verdade.index:\n",
    "        total_match = total_match + 1\n",
    "        #df_materia_encontrada = pd.DataFrame(df_interesse_rc_verdade.loc[index].to_frame().T)\n",
    "        identificacao = df_interesse_rc_verdade.loc[index]['Identificacao']\n",
    "        interesse = df_interesse_rc_verdade.loc[index]['interesse']\n",
    "        print(\"Achei a materia \",codigo_materia,\": \",identificacao,\" com interesse \",interesse)\n",
    "\n",
    "percentual = round((total_match/len(df_top_similares_teste)*100),2)\n",
    "print(\"Acertei \", total_match, \"de \", len(df_top_similares_teste), \". Percentual de \",percentual,\"%\")"
   ]
  },
  {
   "cell_type": "markdown",
   "id": "8aa8845b",
   "metadata": {},
   "source": [
    "## Teste de Eficiência GERAL"
   ]
  },
  {
   "cell_type": "code",
   "execution_count": null,
   "id": "33219287",
   "metadata": {},
   "outputs": [],
   "source": [
    "# RODRIGO CUNHA\n",
    "#codigo_parlamentar_teste = 5905\n",
    "\n",
    "# HEINZE\n",
    "#codigo_parlamentar_teste = 1186\n",
    "\n",
    "#GIRÃO\n",
    "#codigo_parlamentar_teste = 5976\n",
    "\n",
    "#PLINIO\n",
    "#codigo_parlamentar_teste = 5502\n",
    "\n",
    "#Alan Rick\n",
    "codigo_parlamentar_teste = 5672"
   ]
  },
  {
   "cell_type": "code",
   "execution_count": null,
   "id": "4e08f717",
   "metadata": {},
   "outputs": [],
   "source": [
    "df_interesse = pd.read_csv(\"interesse.csv\",sep=\",\")\n",
    "df_interesse = df_interesse.set_index('CodigoMateria')"
   ]
  },
  {
   "cell_type": "code",
   "execution_count": null,
   "id": "cc6b4365",
   "metadata": {},
   "outputs": [],
   "source": [
    "df_interesse_parla = df_interesse[df_interesse['CodigoParlamentar'] == codigo_parlamentar_teste]\n",
    "df_interesse_parla = df_interesse_parla.join(df_detalhes_materias.set_index(\"CodigoMateria\"),how='left')[['CodigoParlamentar','interesse','Ementa','Identificacao','Natureza','ClasseHierarquica']]\n",
    "df_interesse_parla = df_interesse_parla.dropna()\n",
    "df_interesse_parla['ano_materia'] = df_interesse_parla['Identificacao'].str[-4:]\n",
    "df_interesse_parla['ano_materia'] = pd.to_numeric(df_interesse_parla['ano_materia'], errors='coerce')\n",
    "df_interesse_parla.dropna(subset=['ano_materia'], inplace=True)\n",
    "df_interesse_parla = df_interesse_parla.astype({\"ano_materia\":\"int\"})"
   ]
  },
  {
   "cell_type": "code",
   "execution_count": null,
   "id": "49ce2bf5",
   "metadata": {},
   "outputs": [],
   "source": [
    "df_interesse_parla_treino = df_interesse_parla[df_interesse_parla['ano_materia'] <= 2021]\n",
    "df_interesse_parla_verdade = df_interesse_parla[df_interesse_parla['ano_materia'] >= 2022]"
   ]
  },
  {
   "cell_type": "code",
   "execution_count": null,
   "id": "9bdff6fb",
   "metadata": {},
   "outputs": [],
   "source": [
    "df_interesse_parla"
   ]
  },
  {
   "cell_type": "code",
   "execution_count": null,
   "id": "2e27a00d",
   "metadata": {},
   "outputs": [],
   "source": [
    "df_interesse_parla_treino"
   ]
  },
  {
   "cell_type": "code",
   "execution_count": null,
   "id": "1a66784b",
   "metadata": {},
   "outputs": [],
   "source": [
    "df_interesse_parla_verdade"
   ]
  },
  {
   "cell_type": "markdown",
   "id": "96d0c7cc",
   "metadata": {},
   "source": [
    "### Criando recomendações no TESTE DE EFICIÊNCIA GERAL"
   ]
  },
  {
   "cell_type": "code",
   "execution_count": null,
   "id": "5ab8d926",
   "metadata": {},
   "outputs": [],
   "source": [
    "# cria a base de testes, com matérias a partir de 2022\n",
    "df_detalhes_materias_teste = pd.DataFrame(df_detalhes_materias)\n",
    "df_detalhes_materias_teste['ano_materia'] = df_detalhes_materias_teste['Identificacao'].str[-4:]\n",
    "df_detalhes_materias_teste['ano_materia'] = pd.to_numeric(df_detalhes_materias_teste['ano_materia'], errors='coerce')\n",
    "df_detalhes_materias_teste.dropna(subset=['ano_materia'], inplace=True)\n",
    "df_detalhes_materias_teste = df_detalhes_materias_teste.astype({\"ano_materia\":\"int\"}, errors='raise')\n",
    "df_detalhes_materias_teste = df_detalhes_materias_teste[df_detalhes_materias_teste['ano_materia'] >= 2022] \n"
   ]
  },
  {
   "cell_type": "code",
   "execution_count": null,
   "id": "d347a064",
   "metadata": {},
   "outputs": [],
   "source": [
    "df_detalhes_materias_teste"
   ]
  },
  {
   "cell_type": "code",
   "execution_count": null,
   "id": "ed83c948",
   "metadata": {},
   "outputs": [],
   "source": [
    "df_autorias = pd.read_csv(\"df_autorias.csv\",sep=\",\")\n",
    "df_autorias_parla = df_autorias[df_autorias['CodigoParlamentar'] == codigo_parlamentar_teste]\n",
    "#df_autorias_parla"
   ]
  },
  {
   "cell_type": "code",
   "execution_count": null,
   "id": "c5431ece",
   "metadata": {},
   "outputs": [],
   "source": [
    "# Suponha que você já tenha os DataFrames df_detalhes_materias_teste e df_autorias_parla\n",
    "\n",
    "# Crie uma lista dos valores únicos da coluna \"CodigoMateria\" em df_autorias_parla\n",
    "codigos_autorias_parla = df_autorias_parla['CodigoMateria'].unique()\n",
    "\n",
    "# Filtrar os registros em df_detalhes_materias_teste que não estão em df_autorias_parla\n",
    "df_detalhes_materias_teste = df_detalhes_materias_teste[~df_detalhes_materias_teste['CodigoMateria'].isin(codigos_autorias_parla)]\n"
   ]
  },
  {
   "cell_type": "code",
   "execution_count": null,
   "id": "5c0c60ec",
   "metadata": {},
   "outputs": [],
   "source": [
    "df_detalhes_materias_teste"
   ]
  },
  {
   "cell_type": "code",
   "execution_count": null,
   "id": "27a1a5d5",
   "metadata": {},
   "outputs": [],
   "source": [
    "# Seleciona as 10 mais interessantes dos dados de TREINO (Até 2021)\n",
    "condicao = (\n",
    "    (df_interesse_parla_treino['CodigoParlamentar'] == codigo_parlamentar_teste) &\n",
    "    (df_interesse_parla_treino['Identificacao'].str.startswith('P')) &\n",
    "    (~df_interesse_parla_treino['ClasseHierarquica'].str.contains('Honorífico|Orçamento Anual')) &\n",
    "    (~df_interesse_parla_treino['Natureza'].str.contains('Concessão'))\n",
    ")\n",
    "\n",
    "df_interessantes = df_interesse_parla_treino[condicao].sort_values('interesse', ascending=False).head(30)\n",
    "\n",
    "# Procura os similares na base de teste (A partir de 2022)\n",
    "df_top_similares_teste = pd.DataFrame()\n",
    "for codigo_materia in df_interessantes.index:\n",
    "    df_materia_pesquisada = df_detalhes_materias[df_detalhes_materias['CodigoMateria'] == codigo_materia]\n",
    "    similares_pesquisadas = get_lista_similares_tramitando_base_2(cosine_sim, df_detalhes_materias, codigo_materia, df_detalhes_materias_teste)\n",
    "    similares_pesquisadas = similares_pesquisadas[similares_pesquisadas['CodigoMateria'] != codigo_materia]\n",
    "    similares_pesquisadas = similares_pesquisadas.set_index('CodigoMateria')\n",
    "    df_top_similares_teste = pd.concat([df_top_similares_teste, similares_pesquisadas])\n",
    "\n",
    "df_top_similares_teste = df_top_similares_teste[~df_top_similares_teste.index.duplicated(keep='first')]"
   ]
  },
  {
   "cell_type": "code",
   "execution_count": null,
   "id": "14ba6eda",
   "metadata": {},
   "outputs": [],
   "source": [
    "df_interessantes"
   ]
  },
  {
   "cell_type": "markdown",
   "id": "f57e699b",
   "metadata": {},
   "source": [
    "### Verificando a eficiência"
   ]
  },
  {
   "cell_type": "code",
   "execution_count": null,
   "id": "b65cc24f",
   "metadata": {},
   "outputs": [],
   "source": [
    "df_interesse_parla_verdade"
   ]
  },
  {
   "cell_type": "code",
   "execution_count": null,
   "id": "651014b4",
   "metadata": {},
   "outputs": [],
   "source": [
    "df_top_similares_teste"
   ]
  },
  {
   "cell_type": "code",
   "execution_count": null,
   "id": "f57a39d7",
   "metadata": {},
   "outputs": [],
   "source": [
    "# Verifica se as matérias sugeridas (df_top_similares_teste) estão na base VERDADE\n",
    "\n",
    "total_match = 0\n",
    "for index,row in df_top_similares_teste.iterrows():    \n",
    "    codigo_materia = index\n",
    "    #print (\"Vou verificar a materia: \",codigo_materia)\n",
    "    if codigo_materia in df_interesse_parla_verdade.index:\n",
    "        total_match = total_match + 1        \n",
    "        identificacao = df_interesse_parla_verdade.loc[index]['Identificacao']\n",
    "        interesse = df_interesse_parla_verdade.loc[index]['interesse']        \n",
    "        print(\"Achei a materia \",codigo_materia,\": \",identificacao,\" com interesse \",interesse, )\n",
    "\n",
    "percentual = round((total_match/len(df_top_similares_teste)*100),2)\n",
    "print(\"Acertei \", total_match, \"de \", len(df_top_similares_teste), \". Percentual de \",percentual,\"%\")"
   ]
  },
  {
   "cell_type": "markdown",
   "id": "c63f2b30",
   "metadata": {},
   "source": [
    "# Teste de eficiência para todos os senadores"
   ]
  },
  {
   "cell_type": "code",
   "execution_count": null,
   "id": "66c30853",
   "metadata": {},
   "outputs": [],
   "source": [
    "#Só na primeira vez\n",
    "df_interesse = pd.read_csv(\"interesse.csv\",sep=\",\")\n",
    "df_interesse = df_interesse.set_index('CodigoMateria')\n",
    "\n",
    "df_senadores = pd.read_csv(\"df_senadores.csv\",sep=\",\")\n",
    "df_senadores = df_senadores.set_index('CodigoParlamentar')\n",
    "df_senadores['PegouDetalhe'] = False\n",
    "\n",
    "df_stat = pd.DataFrame(columns=[\n",
    "    'CodigoParlamentar',\n",
    "    'NomeParlamentar',\n",
    "    'TotalBaseTreino',\n",
    "    'TotalBaseVerdade',    \n",
    "    'AcertosUnigramaLema',\n",
    "    'PercentualUnigramaLema',\n",
    "    'PercentualCoberturaUnigramaLema',\n",
    "    'AcertosBigramaLema',\n",
    "    'PercentualBigramaLema',\n",
    "    'PercentualCoberturaBigramaLema',\n",
    "    'AcertosUnigramaNormal',\n",
    "    'PercentualUnigramaNormal',\n",
    "    'PercentualCoberturaUnigramaNormal',\n",
    "    'AcertosBigramaNormal',\n",
    "    'PercentualBigramaNormal',\n",
    "    'PercentualCoberturaBigramaNormal',\n",
    "    'AcertosBM25Lema',\n",
    "    'PercentualBM25Lema',\n",
    "    'PercentualBM25CoberturaLema'\n",
    "    'AcertosBM25Normal',\n",
    "    'PercentualBM25Normal',\n",
    "    'PercentualCoberturaBM25Normal',\n",
    "    'AcertosAleatorios',\n",
    "    'PercentualAleatorios',\n",
    "    'PercentualAleatoriosCobertura'\n",
    "])"
   ]
  },
  {
   "cell_type": "code",
   "execution_count": null,
   "id": "bcb1dd5c",
   "metadata": {},
   "outputs": [],
   "source": [
    "df_interessantes[df_interessantes.index == 159777]"
   ]
  },
  {
   "cell_type": "code",
   "execution_count": null,
   "id": "495e2ad2",
   "metadata": {},
   "outputs": [],
   "source": [
    "df_detalhes_materias[df_detalhes_materias['CodigoMateria'] == 159777]"
   ]
  },
  {
   "cell_type": "code",
   "execution_count": null,
   "id": "8b0611f5",
   "metadata": {},
   "outputs": [],
   "source": [
    "df_senadores[(df_senadores['PegouDetalhe'] == False) & (df_senadores.index == 5672)]"
   ]
  },
  {
   "cell_type": "code",
   "execution_count": null,
   "id": "6ab72b5b",
   "metadata": {},
   "outputs": [],
   "source": [
    "#Transformando as colunas de df_stat para numericas\n",
    "columns = ['TotalBaseTreino',\n",
    "    'TotalBaseVerdade',    \n",
    "    'AcertosUnigramaLema',\n",
    "    'PercentualUnigramaLema',\n",
    "    'PercentualCoberturaUnigramaLema',\n",
    "    'AcertosBigramaLema',\n",
    "    'PercentualBigramaLema',\n",
    "    'PercentualCoberturaBigramaLema',\n",
    "    'AcertosUnigramaNormal',\n",
    "    'PercentualUnigramaNormal',\n",
    "    'PercentualCoberturaUnigramaNormal',\n",
    "    'AcertosBigramaNormal',\n",
    "    'PercentualBigramaNormal',\n",
    "    'PercentualCoberturaBigramaNormal',\n",
    "    'AcertosBM25Lema',\n",
    "    'PercentualBM25Lema',\n",
    "    'PercentualBM25CoberturaLema'\n",
    "    'AcertosBM25Normal',\n",
    "    'PercentualBM25Normal',\n",
    "    'PercentualCoberturaBM25Normal',\n",
    "    'AcertosAleatorios',\n",
    "    'PercentualAleatorios',\n",
    "    'PercentualAleatoriosCobertura'] \n",
    "df_stat[columns] = df_stat[columns].apply(lambda x: x.astype('float'))"
   ]
  },
  {
   "cell_type": "code",
   "execution_count": null,
   "id": "8e1e48aa",
   "metadata": {},
   "outputs": [],
   "source": [
    "#CUIDADO PRA NÃO SOBRESCREVER\n",
    "df_stat.to_csv('df_stat.csv')"
   ]
  },
  {
   "cell_type": "markdown",
   "id": "b0f76a22",
   "metadata": {},
   "source": [
    "## Estatísticas do resultado"
   ]
  },
  {
   "cell_type": "code",
   "execution_count": null,
   "id": "caed6db6",
   "metadata": {},
   "outputs": [],
   "source": [
    "df_stat"
   ]
  },
  {
   "cell_type": "code",
   "execution_count": null,
   "id": "24952f7e",
   "metadata": {},
   "outputs": [],
   "source": [
    "df_stat.info()"
   ]
  },
  {
   "cell_type": "code",
   "execution_count": null,
   "id": "e47a49ea",
   "metadata": {},
   "outputs": [],
   "source": [
    "#Usando código velho\n",
    "df_stat.describe()"
   ]
  },
  {
   "cell_type": "code",
   "execution_count": null,
   "id": "0716044c",
   "metadata": {},
   "outputs": [],
   "source": [
    "#Usando código otimizado\n",
    "df_stat.describe()"
   ]
  },
  {
   "cell_type": "code",
   "execution_count": null,
   "id": "5f2eeb97",
   "metadata": {},
   "outputs": [],
   "source": [
    "len(df_stat[df_stat['TotalBaseTreino'] > 100])"
   ]
  },
  {
   "cell_type": "code",
   "execution_count": null,
   "id": "10961f24",
   "metadata": {},
   "outputs": [],
   "source": [
    "df_stat[df_stat['TotalBaseTreino'] > 100].describe()"
   ]
  },
  {
   "cell_type": "code",
   "execution_count": null,
   "id": "91a325b3",
   "metadata": {},
   "outputs": [],
   "source": [
    "df_stat[((df_stat['TotalBaseVerdade'] > 10) and (df_stat['TotalBaseVerdade'] < 30))].describe()"
   ]
  },
  {
   "cell_type": "code",
   "execution_count": null,
   "id": "1e0d7582",
   "metadata": {},
   "outputs": [],
   "source": [
    "len(df_stat[df_stat['TotalSugestoes'] > 10])"
   ]
  },
  {
   "cell_type": "code",
   "execution_count": null,
   "id": "30328782",
   "metadata": {},
   "outputs": [],
   "source": [
    "df_stat[df_stat['TotalSugestoes'] > 10].describe()"
   ]
  },
  {
   "cell_type": "markdown",
   "id": "840b7ad3",
   "metadata": {},
   "source": [
    "## Sugestoes dos senadores"
   ]
  },
  {
   "cell_type": "code",
   "execution_count": null,
   "id": "f34cdb6b",
   "metadata": {},
   "outputs": [],
   "source": [
    "#Só na primeira vez\n",
    "df_interesse = pd.read_csv(\"interesse.csv\",sep=\",\")\n",
    "df_interesse = df_interesse.set_index('CodigoMateria')\n",
    "\n",
    "df_senadores = pd.read_csv(\"df_senadores.csv\",sep=\",\")\n",
    "df_senadores = df_senadores.set_index('CodigoParlamentar')\n",
    "df_senadores['PegouDetalhe'] = False\n",
    "\n",
    "df_stat = pd.DataFrame(columns=[\n",
    "    'CodigoParlamentar',\n",
    "    'NomeParlamentar',\n",
    "    'TotalBaseTreino',\n",
    "    'TotalBaseVerdade',\n",
    "    'TotalSugestoes',\n",
    "    'AcertosUnigramaLema',\n",
    "    'PercentualUnigramaLema',\n",
    "    'PercentualCoberturaUnigramaLema',\n",
    "    'AcertosBigramaLema',\n",
    "    'PercentualBigramaLema',\n",
    "    'PercentualCoberturaBigramaLema',\n",
    "    'AcertosUnigramaNormal',\n",
    "    'PercentualUnigramaNormal',\n",
    "    'PercentualCoberturaUnigramaNormal',\n",
    "    'AcertosBigramaNormal',\n",
    "    'PercentualBigramaNormal',\n",
    "    'PercentualCoberturaBigramaNormal',\n",
    "    'AcertosBM25Lema',\n",
    "    'PercentualBM25BM25Lema',\n",
    "    'PercentualBM25CoberturaBM25Lema'\n",
    "    'AcertosBM25Normal',\n",
    "    'PercentualBM25Normal',\n",
    "    'PercentualCoberturaBM25Normal'    \n",
    "])"
   ]
  },
  {
   "cell_type": "code",
   "execution_count": null,
   "id": "acb75fe9",
   "metadata": {},
   "outputs": [],
   "source": [
    "df_detalhes_materias[\"combinacao\"]"
   ]
  },
  {
   "cell_type": "code",
   "execution_count": null,
   "id": "a47a018b",
   "metadata": {},
   "outputs": [],
   "source": [
    "#CÓDIGO PARA SUPER SUGESTOES\n",
    "df_senadores_aux = df_senadores[(df_senadores['PegouDetalhe'] == False) & (df_senadores.index == 5905)]\n",
    "#df_senadores_aux = df_senadores[(df_senadores['PegouDetalhe'] == False)]\n",
    "\n",
    "#Calcula o bm25 considerando a base de teste, para poder ser utilizado posteriormente para filtrar as mais similares\n",
    "\n",
    "corpus_parla_normal = df_detalhes_materias[\"combinacao\"]\n",
    "corpus_parla_normal = [doc.translate(str.maketrans('', '', string.punctuation)).replace('\\n',' ').lower() for doc in corpus_parla_normal]\n",
    "tokenized_corpus_parla_normal = [doc.split(\" \") for doc in corpus_parla_normal]\n",
    "bm25_parla_normal = BM25Okapi(tokenized_corpus_parla_normal)  \n",
    "\n",
    "corpus_parla_lema = df_detalhes_materias[\"combinacao_clean\"]\n",
    "corpus_parla_lema = [doc.translate(str.maketrans('', '', string.punctuation)).replace('\\n',' ').lower() for doc in corpus_parla_lema]\n",
    "tokenized_corpus_parla_lema = [doc.split(\" \") for doc in corpus_parla_lema]\n",
    "bm25_parla_lema = BM25Okapi(tokenized_corpus_parla_lema)  \n",
    "\n",
    "df_sugestoes_cosseno_geral_lema = pd.DataFrame()\n",
    "df_sugestoes_bigrama_geral_lema = pd.DataFrame()\n",
    "df_sugestoes_cosseno_geral_normal = pd.DataFrame()\n",
    "df_sugestoes_bigrama_geral_normal = pd.DataFrame()\n",
    "df_sugestoes_bm25_geral_lema = pd.DataFrame()\n",
    "df_sugestoes_bm25_geral_normal = pd.DataFrame()\n",
    "df_sugestoes_aleatorias_geral = pd.DataFrame()\n",
    "\n",
    "for index,row in df_senadores_aux.iterrows():\n",
    "    codigo_parlamentar_teste = index\n",
    "    #print('codigo:',codigo_parlamentar_teste)\n",
    "    nome_parlamentar = row['NomeParlamentar']\n",
    "    \n",
    "    df_interesse_parla = df_interesse[df_interesse['CodigoParlamentar'] == codigo_parlamentar_teste]\n",
    "    df_interesse_parla = df_interesse_parla.join(df_detalhes_materias.set_index(\"CodigoMateria\"),how='left')[['CodigoParlamentar','Ementa','Identificacao','Natureza','ClasseHierarquica','interesse','justificativa_interesse']]\n",
    "    df_interesse_parla = df_interesse_parla.dropna()\n",
    "        \n",
    "    condicao = (\n",
    "        (df_interesse_parla['interesse'] > 0) &\n",
    "        (df_interesse_parla['Identificacao'].str.startswith('P')) &\n",
    "        (~df_interesse_parla['ClasseHierarquica'].str.contains('Orçamento Anual')) &\n",
    "        (~df_interesse_parla['Natureza'].str.contains('Concessão'))\n",
    "    )\n",
    "    df_interesse_parla = df_interesse_parla[condicao]\n",
    "    \n",
    "   \n",
    "    #Define a base que será usada para teste    \n",
    "    df_detalhes_materias_teste = pd.DataFrame(df_detalhes_materias)\n",
    "\n",
    "    #Remove as autorias da base de teste    \n",
    "    df_detalhes_materias_teste = df_detalhes_materias_teste[~df_detalhes_materias_teste['CodigoMateria'].isin(codigos_autorias_parla)]\n",
    "    df_detalhes_materias_teste = df_detalhes_materias_teste[df_detalhes_materias_teste['Tramitando'] == 'Sim']\n",
    "    \n",
    "    #Aplica as mesmas condições na base de teste\n",
    "    condicao = (\n",
    "        (df_detalhes_materias_teste['Identificacao'].str.startswith('P')) &\n",
    "        (~df_detalhes_materias_teste['ClasseHierarquica'].str.contains('Orçamento Anual')) &\n",
    "        (~df_detalhes_materias_teste['Natureza'].str.contains('Concessão'))\n",
    "    )\n",
    "    df_detalhes_materias_teste = df_detalhes_materias_teste[condicao]\n",
    "  \n",
    "    \n",
    "    \n",
    "    # Seleciona as 10 mais interessantes \n",
    "\n",
    "    df_interessantes = df_interesse_parla.sort_values('interesse', ascending=False).head(10)\n",
    "\n",
    "    # 1 - Procura os similares na base de teste, usando similaridade de cosseno\n",
    "    df_top_similares_cosseno = pd.DataFrame()\n",
    "    for codigo_materia in df_interessantes.index:        \n",
    "        df_materia_pesquisada = df_detalhes_materias[df_detalhes_materias['CodigoMateria'] == codigo_materia]        \n",
    "        similares_pesquisadas = get_lista_similares_tramitando_base_2(cosine_sim, df_detalhes_materias, codigo_materia, df_detalhes_materias_teste)        \n",
    "        similares_pesquisadas = similares_pesquisadas[similares_pesquisadas['CodigoMateria'] != codigo_materia]        \n",
    "        similares_pesquisadas = similares_pesquisadas.set_index('CodigoMateria')        \n",
    "        df_top_similares_cosseno = pd.concat([df_top_similares_cosseno, similares_pesquisadas])        \n",
    "    #Elimina as duplicatas\n",
    "    df_top_similares_cosseno = df_top_similares_cosseno[~df_top_similares_cosseno.index.duplicated(keep='first')]    \n",
    "    \n",
    "            \n",
    "    # 2 - Procura os similares na base de teste usando bigrama e similaridade de cosseno\n",
    "    df_top_similares_bigrama = pd.DataFrame()\n",
    "    for codigo_materia in df_interessantes.index:\n",
    "        df_materia_pesquisada = df_detalhes_materias[df_detalhes_materias['CodigoMateria'] == codigo_materia]\n",
    "        similares_pesquisadas = get_lista_similares_tramitando_base_2(cosine_sim_bigrama, df_detalhes_materias, codigo_materia, df_detalhes_materias_teste)\n",
    "        similares_pesquisadas = similares_pesquisadas[similares_pesquisadas['CodigoMateria'] != codigo_materia]\n",
    "        similares_pesquisadas = similares_pesquisadas.set_index('CodigoMateria')\n",
    "        df_top_similares_bigrama = pd.concat([df_top_similares_bigrama, similares_pesquisadas])\n",
    "    #Elimina as duplicatas\n",
    "    df_top_similares_bigrama = df_top_similares_bigrama[~df_top_similares_bigrama.index.duplicated(keep='first')]    \n",
    "    \n",
    "        \n",
    "    # 3 - Procura os similares na base de teste, usando BM25\n",
    "    df_top_similares_bm25 = pd.DataFrame()\n",
    "    for codigo_materia in df_interessantes.index:\n",
    "        df_materia_pesquisada = df_detalhes_materias[df_detalhes_materias['CodigoMateria'] == codigo_materia]\n",
    "        query_parla = df_materia_pesquisada['combinacao'].to_string(index=False)\n",
    "        similares_pesquisadas = get_materias_similares_bm25(df_detalhes_materias,query_parla,bm25_parla,df_detalhes_materias_teste)\n",
    "        similares_pesquisadas = similares_pesquisadas[similares_pesquisadas['CodigoMateria'] != codigo_materia]\n",
    "        similares_pesquisadas = similares_pesquisadas.set_index('CodigoMateria')\n",
    "        df_top_similares_bm25 = pd.concat([df_top_similares_bm25, similares_pesquisadas])\n",
    "    #Elimina as duplicatas\n",
    "    df_top_similares_bm25 = df_top_similares_bm25[~df_top_similares_bm25.index.duplicated(keep='first')]        \n",
    "       \n",
    "    #Grava nas sugestões gerais\n",
    "    df_top_similares_cosseno['CodigoParlamentar'] = codigo_parlamentar_teste\n",
    "    df_top_similares_bigrama['CodigoParlamentar'] = codigo_parlamentar_teste\n",
    "    df_top_similares_bm25['CodigoParlamentar'] = codigo_parlamentar_teste\n",
    "    \n",
    "    df_sugestoes_cosseno_geral = pd.concat([df_sugestoes_cosseno_geral, df_top_similares_cosseno])  \n",
    "    df_sugestoes_bigrama_geral = pd.concat([df_sugestoes_bigrama_geral, df_top_similares_bigrama])  \n",
    "    df_sugestoes_bm25_geral = pd.concat([df_sugestoes_bm25_geral, df_top_similares_bm25])  \n",
    "    \n",
    "    df_senadores.at[index, 'PegouDetalhe'] = True\n"
   ]
  },
  {
   "cell_type": "code",
   "execution_count": null,
   "id": "5aee021c",
   "metadata": {},
   "outputs": [],
   "source": [
    "df_sugestoes_cosseno_geral[df_sugestoes_cosseno_geral['CodigoParlamentar'] == 5905]"
   ]
  },
  {
   "cell_type": "code",
   "execution_count": null,
   "id": "8ab8d81a",
   "metadata": {},
   "outputs": [],
   "source": [
    "df_detalhes_materias"
   ]
  },
  {
   "cell_type": "code",
   "execution_count": null,
   "id": "3f343112",
   "metadata": {},
   "outputs": [],
   "source": [
    "df_sugestoes_bm25_geral[df_sugestoes_bm25_geral['CodigoParlamentar'] == 5905]"
   ]
  },
  {
   "cell_type": "markdown",
   "id": "8dacb8bb",
   "metadata": {},
   "source": [
    "# Testando o BM25"
   ]
  },
  {
   "cell_type": "code",
   "execution_count": null,
   "id": "293ac9cb",
   "metadata": {},
   "outputs": [],
   "source": [
    "def get_materias_similares_bm25(DataFrameMateriasOriginal,QueryString, Bm25Inicializado, DataFrameAlvo):    \n",
    "    bm25 = Bm25Inicializado\n",
    "    query = QueryString\n",
    "    \n",
    "    query = query.translate(str.maketrans('', '', string.punctuation)).replace('\\n',' ').lower()\n",
    "    tokenized_query = query.split(\" \")\n",
    "    bm25_scores = bm25.get_scores(tokenized_query)\n",
    "    descending_indices = (-bm25_scores).argsort()\n",
    "    dataframe_filtrado = DataFrameMateriasOriginal.filter(items = descending_indices, axis=0)\n",
    "    achou = 0\n",
    "    total_escapa = 0\n",
    "    df_retorno = pd.DataFrame()\n",
    "    for index, row in dataframe_filtrado.iterrows():\n",
    "        \n",
    "        if DataFrameAlvo['CodigoMateria'].isin([row['CodigoMateria']]).any():        \n",
    "            achou = achou + 1\n",
    "            #print('Achei,',row['CodigoMateria'])\n",
    "            df_retorno = pd.concat([df_retorno,pd.DataFrame(row).T])\n",
    "        total_escapa = total_escapa + 1\n",
    "        \n",
    "        if achou >= 5:\n",
    "            break\n",
    "        if total_escapa > 500:\n",
    "            print('escapei achando',achou)\n",
    "            break\n",
    "    return df_retorno\n",
    "    "
   ]
  },
  {
   "cell_type": "code",
   "execution_count": null,
   "id": "29f05523",
   "metadata": {},
   "outputs": [],
   "source": [
    "#Só precisa na primeira vez\n",
    "corpus = df_detalhes_materias[\"combinacao\"]\n",
    "corpus = [doc.translate(str.maketrans('', '', string.punctuation)).replace('\\n',' ').lower() for doc in corpus]\n",
    "tokenized_corpus = [doc.split(\" \") for doc in corpus]\n",
    "meubm25 = BM25Okapi(tokenized_corpus)\n",
    "\n",
    "query = \"israel\"\n",
    "get_materias_similares_bm25(df_detalhes_materias,query,meubm25,df_detalhes_materias)"
   ]
  },
  {
   "cell_type": "code",
   "execution_count": null,
   "id": "a1ea6fea",
   "metadata": {},
   "outputs": [],
   "source": [
    "bm25_scores = meubm25.get_scores('israel')\n",
    "descending_indices = (-bm25_scores).argsort()\n",
    "descending_indices"
   ]
  },
  {
   "cell_type": "code",
   "execution_count": null,
   "id": "67232ffb",
   "metadata": {},
   "outputs": [],
   "source": [
    "pd.set_option('display.max_colwidth', None)\n",
    "display(df_detalhes_materias[df_detalhes_materias['CodigoMateria'] == 139545]['combinacao'].to_string())"
   ]
  },
  {
   "cell_type": "code",
   "execution_count": null,
   "id": "2df56bdd",
   "metadata": {},
   "outputs": [],
   "source": [
    "bm25_scores"
   ]
  },
  {
   "cell_type": "code",
   "execution_count": null,
   "id": "8c723f98",
   "metadata": {},
   "outputs": [],
   "source": [
    "codigo_materia = 154116\n",
    "similares_pesquisadas = get_lista_similares_tramitando_base_2(cosine_sim, df_detalhes_materias, codigo_materia, df_detalhes_materias_teste)"
   ]
  },
  {
   "cell_type": "code",
   "execution_count": null,
   "id": "60f39383",
   "metadata": {},
   "outputs": [],
   "source": [
    "similares_pesquisadas"
   ]
  },
  {
   "cell_type": "code",
   "execution_count": null,
   "id": "d9ad35e8",
   "metadata": {},
   "outputs": [],
   "source": [
    "df_detalhes_materias[\"combinacao\"][0:4]"
   ]
  },
  {
   "cell_type": "code",
   "execution_count": null,
   "id": "0428892d",
   "metadata": {},
   "outputs": [],
   "source": [
    "corpus = df_detalhes_materias[\"combinacao\"]\n",
    "corpus = [doc.translate(str.maketrans('', '', string.punctuation)).replace('\\n',' ').lower() for doc in corpus]\n",
    "tokenized_corpus = [doc.split(\" \") for doc in corpus]"
   ]
  },
  {
   "cell_type": "code",
   "execution_count": null,
   "id": "7e9e9743",
   "metadata": {},
   "outputs": [],
   "source": [
    "corpus[2]"
   ]
  },
  {
   "cell_type": "code",
   "execution_count": null,
   "id": "27060a54",
   "metadata": {},
   "outputs": [],
   "source": [
    "docs.translate(str.maketrans('', '', string.punctuation))"
   ]
  },
  {
   "cell_type": "code",
   "execution_count": null,
   "id": "6d371b30",
   "metadata": {},
   "outputs": [],
   "source": [
    "tokenized_corpus[2]"
   ]
  },
  {
   "cell_type": "code",
   "execution_count": null,
   "id": "66f5bec1",
   "metadata": {},
   "outputs": [],
   "source": [
    "bm25 = BM25Okapi(tokenized_corpus)"
   ]
  },
  {
   "cell_type": "code",
   "execution_count": null,
   "id": "ca043222",
   "metadata": {},
   "outputs": [],
   "source": [
    "query = \"uniforme escolar\"\n",
    "tokenized_query = query.split(\" \")\n",
    "doc_scores = bm25.get_scores(tokenized_query)\n",
    "doc_scores"
   ]
  },
  {
   "cell_type": "code",
   "execution_count": null,
   "id": "d6777253",
   "metadata": {},
   "outputs": [],
   "source": [
    "len(doc_scores)"
   ]
  },
  {
   "cell_type": "code",
   "execution_count": null,
   "id": "8aea3f83",
   "metadata": {},
   "outputs": [],
   "source": [
    "import numpy\n",
    "#sort_index = numpy.argsort(doc_scores)\n",
    "#ascending_indices = doc_scores.argsort()\n",
    "descending_indices = (-doc_scores).argsort()\n",
    "\n",
    "#print(sort_index)"
   ]
  },
  {
   "cell_type": "code",
   "execution_count": null,
   "id": "f616f511",
   "metadata": {},
   "outputs": [],
   "source": [
    "descending_indices[0:4]"
   ]
  },
  {
   "cell_type": "code",
   "execution_count": null,
   "id": "bc4cf0d3",
   "metadata": {},
   "outputs": [],
   "source": [
    "df_detalhes_materias.filter(items = descending_indices[0:4], axis=0)"
   ]
  },
  {
   "cell_type": "code",
   "execution_count": null,
   "id": "b9ea3ae1",
   "metadata": {},
   "outputs": [],
   "source": [
    "df_detalhes_materias[\"combinacao\"][705]"
   ]
  },
  {
   "cell_type": "code",
   "execution_count": null,
   "id": "6cee5626",
   "metadata": {},
   "outputs": [],
   "source": [
    "#retrieve search results\n",
    "query = \"uniforme escolar\"\n",
    "tokenized_query = query.lower().split(\" \")\n",
    "bm25.get_top_n(tokenized_query, corpus, n=4)"
   ]
  },
  {
   "cell_type": "code",
   "execution_count": null,
   "id": "2ef3d94e",
   "metadata": {},
   "outputs": [],
   "source": [
    "doc_scores = bm25.get_scores(tokenized_query)\n",
    "import numpy as np\n",
    "np.sort(doc_scores)[-4:][::-1]"
   ]
  },
  {
   "cell_type": "markdown",
   "id": "d5ce1c17",
   "metadata": {},
   "source": [
    "# GERADOR DO GRÁFICO COMPARATIVO"
   ]
  },
  {
   "cell_type": "code",
   "execution_count": null,
   "id": "0819ee62",
   "metadata": {},
   "outputs": [],
   "source": [
    "merged_1 = df_top_similares_cosseno.merge(df_top_similares_bigrama, on='CodigoMateria', how='inner')"
   ]
  },
  {
   "cell_type": "code",
   "execution_count": null,
   "id": "7290d9a3",
   "metadata": {},
   "outputs": [],
   "source": [
    "merged_2 = df_top_similares_cosseno.merge(df_top_similares_bm25, on='CodigoMateria', how='inner')"
   ]
  },
  {
   "cell_type": "code",
   "execution_count": null,
   "id": "17ba7388",
   "metadata": {},
   "outputs": [],
   "source": [
    "merged_3 = df_top_similares_bigrama.merge(df_top_similares_bm25, on='CodigoMateria', how='inner')"
   ]
  },
  {
   "cell_type": "code",
   "execution_count": null,
   "id": "deade5a8",
   "metadata": {
    "scrolled": true
   },
   "outputs": [],
   "source": [
    "merged_1"
   ]
  },
  {
   "cell_type": "code",
   "execution_count": null,
   "id": "7676109f",
   "metadata": {},
   "outputs": [],
   "source": [
    "merged_2"
   ]
  },
  {
   "cell_type": "code",
   "execution_count": null,
   "id": "6663d50d",
   "metadata": {},
   "outputs": [],
   "source": [
    "merged_3"
   ]
  },
  {
   "cell_type": "code",
   "execution_count": null,
   "id": "10f239cf",
   "metadata": {},
   "outputs": [],
   "source": [
    "print(\"Total VERDADE\",len(df_interesse_parla_verdade))\n",
    "print(\"Total cosseno\",len(df_top_similares_cosseno))\n",
    "print(\"Total bigrama\",len(df_top_similares_bigrama))\n",
    "print(\"Total bm25\",len(df_top_similares_bm25))\n",
    "print(\"Semelhança 1:\",len(merged_1))\n",
    "print(\"Semelhança 2:\",len(merged_2))\n",
    "print(\"Semelhança 3:\",len(merged_3))"
   ]
  },
  {
   "cell_type": "code",
   "execution_count": null,
   "id": "48cebb06",
   "metadata": {},
   "outputs": [],
   "source": [
    "df_interesse_parla_verdade"
   ]
  },
  {
   "cell_type": "code",
   "execution_count": null,
   "id": "141412e7",
   "metadata": {},
   "outputs": [],
   "source": [
    "df_interesse_parla"
   ]
  },
  {
   "cell_type": "code",
   "execution_count": null,
   "id": "a93579f2",
   "metadata": {},
   "outputs": [],
   "source": [
    "df_interesse_parla_treino"
   ]
  },
  {
   "cell_type": "code",
   "execution_count": null,
   "id": "d8ad7ef0",
   "metadata": {},
   "outputs": [],
   "source": [
    "df_interesse_parla[(df_interesse_parla['ano_materia'] >= 2023) & (df_interesse_parla['interesse'] > 0)]"
   ]
  },
  {
   "cell_type": "code",
   "execution_count": null,
   "id": "6164eadf",
   "metadata": {},
   "outputs": [],
   "source": [
    "df_interesse_parla_verdade"
   ]
  },
  {
   "cell_type": "code",
   "execution_count": null,
   "id": "207a5805",
   "metadata": {},
   "outputs": [],
   "source": [
    "nlp = spacy.load('pt_core_news_lg')\n",
    "from spacy.lang.pt.examples import sentences \n",
    "doc = nlp(sentences[1])\n",
    "print(doc.text)\n",
    "for token in doc:\n",
    "    print(token.text, token.pos_, token.dep_)"
   ]
  },
  {
   "cell_type": "code",
   "execution_count": null,
   "id": "1b2fc33b",
   "metadata": {},
   "outputs": [],
   "source": [
    "import numpy as np\n",
    "import matplotlib.pyplot as plt\n",
    "\n",
    "# Lista de colunas para cada grupo\n",
    "group1_columns = ['PercentualUnigramaNormal', 'PercentualCoberturaUnigramaLema']\n",
    "group2_columns = ['PercentualCoberturaBigramaNormal', 'PercentualCoberturaBigramaLema']\n",
    "group3_columns = ['PercentualCoberturaBM25Normal', 'PercentualBM25CoberturaBM25Lema']\n",
    "group4_columns = ['PercentualAleatorioCobertura']\n",
    "\n",
    "# Calcula as médias para cada grupo\n",
    "group1_means = df_stat_teste[group1_columns].mean()\n",
    "group2_means = df_stat_teste[group2_columns].mean()\n",
    "group3_means = df_stat_teste[group3_columns].mean()\n",
    "group4_means = df_stat_teste[group4_columns].mean()\n",
    "\n",
    "# Nomes dos grupos\n",
    "groups = ['Group 1', 'Group 2', 'Group 3', 'Group 4']\n",
    "\n",
    "# Largura da barra no gráfico\n",
    "bar_width = 0.2\n",
    "bar_positions = np.arange(len(groups))\n",
    "\n",
    "# Configuração do gráfico\n",
    "fig, ax = plt.subplots()\n",
    "\n",
    "bar1 = ax.bar(bar_positions - 1.5*bar_width, group1_means, bar_width, label='Group 1')\n",
    "bar2 = ax.bar(bar_positions - 0.5*bar_width, group2_means, bar_width, label='Group 2')\n",
    "bar3 = ax.bar(bar_positions + 0.5*bar_width, group3_means, bar_width, label='Group 3')\n",
    "bar4 = ax.bar(bar_positions + 1.5*bar_width, group4_means, bar_width, label='Group 4')\n",
    "\n",
    "# Adiciona rótulos, título e legenda\n",
    "ax.set_xlabel('Groups')\n",
    "ax.set_ylabel('Means')\n",
    "ax.set_title('Means of Specific Columns by Group')\n",
    "ax.set_xticks(bar_positions)\n",
    "ax.set_xticklabels(groups)\n",
    "ax.legend()\n",
    "\n",
    "# Exibe o gráfico\n",
    "plt.show()\n"
   ]
  },
  {
   "cell_type": "code",
   "execution_count": null,
   "id": "de3894a8",
   "metadata": {},
   "outputs": [],
   "source": [
    "\n",
    "# Selecionando as colunas relevantes para cada grupo\n",
    "group1 = ['PercentualCoberturaUnigramaNormal', 'PercentualCoberturaUnigramaLema']\n",
    "group2 = ['PercentualCoberturaBigramaNormal', 'PercentualCoberturaBigramaLema']\n",
    "group3 = ['PercentualCoberturaBM25Normal', 'PercentualBM25CoberturaBM25Lema']\n",
    "group4 = ['PercentualAleatorioCobertura']\n",
    "\n",
    "# Calculando as médias para cada grupo\n",
    "means_group1 = df_stat[group1].mean()\n",
    "means_group2 = df_stat[group2].mean()\n",
    "means_group3 = df_stat[group3].mean()\n",
    "means_group4 = df_stat[group4].mean()\n",
    "\n",
    "# Criando o gráfico\n",
    "fig, ax = plt.subplots()\n",
    "\n",
    "bar_width = 0.15  # Reduzindo a largura das barras\n",
    "group_width = 0.5  # Definindo a largura total de cada grupo\n",
    "\n",
    "index = np.arange(len(group1) + len(group2) + len(group3) + len(group4))\n",
    "\n",
    "bar1 = ax.bar(index[:2] - group_width/2, means_group1, bar_width, label='Cosseno - Unigrama')\n",
    "bar2 = ax.bar(index[2:4] - group_width/2, means_group2, bar_width, label='Cosseno - Bigrama')\n",
    "bar3 = ax.bar(index[4:6] - group_width/2, means_group3, bar_width, label='Rank BM25')\n",
    "bar4 = ax.bar(index[6:] - group_width/2, means_group4, bar_width, label='Aleatório')\n",
    "\n",
    "# Adicionando rótulos, legendas, etc.\n",
    "ax.set_xlabel('Columns')\n",
    "ax.set_ylabel('Mean Values')\n",
    "ax.set_title('Mean Values by Column and Group')\n",
    "ax.set_xticks(index - group_width/2 + bar_width/2)\n",
    "#ax.set_xticklabels(group1 + group2 + group3 + group4)\n",
    "#ax.set_xticklabels(group1 + group2 + group3 + group4)\n",
    "plt.xticks((0, 1, 2, 3, 4, 5, 6), ('Normal', 'Lema', 'Normal', 'Lema', 'Normal', 'Lema', ''))\n",
    "ax.legend()\n",
    "\n",
    "# Exibindo o gráfico\n",
    "plt.show()\n"
   ]
  },
  {
   "cell_type": "code",
   "execution_count": null,
   "id": "b2502ed7",
   "metadata": {},
   "outputs": [],
   "source": [
    "df_stat"
   ]
  },
  {
   "cell_type": "code",
   "execution_count": null,
   "id": "870c271e",
   "metadata": {},
   "outputs": [],
   "source": [
    "df_stat[df_stat['TotalBaseTreino'] < 30]"
   ]
  },
  {
   "cell_type": "code",
   "execution_count": null,
   "id": "a1669acf",
   "metadata": {},
   "outputs": [],
   "source": [
    "len(df_stat[df_stat['TotalBaseTreino'] < 30])"
   ]
  },
  {
   "cell_type": "code",
   "execution_count": null,
   "id": "9dbd88c7",
   "metadata": {},
   "outputs": [],
   "source": [
    "df_stat['PercentualAleatoriosCobertura'].mean()"
   ]
  },
  {
   "cell_type": "code",
   "execution_count": null,
   "id": "9544bb6d",
   "metadata": {},
   "outputs": [],
   "source": [
    "len(df_stat[(df_stat['TotalBaseTreino'] > 30) & (df_stat['TotalBaseVerdade'] > 10)])"
   ]
  },
  {
   "cell_type": "code",
   "execution_count": null,
   "id": "12521012",
   "metadata": {},
   "outputs": [],
   "source": [
    "len(df_stat[df_stat['TotalBaseVerdade'] > 20])"
   ]
  },
  {
   "cell_type": "code",
   "execution_count": null,
   "id": "ddd605e0",
   "metadata": {},
   "outputs": [],
   "source": [
    "df_stat"
   ]
  },
  {
   "cell_type": "code",
   "execution_count": null,
   "id": "b5ec2b91",
   "metadata": {},
   "outputs": [],
   "source": [
    "#df_grafico = df_stat[(df_stat['TotalBaseTreino'] > 30) & (df_stat['TotalBaseVerdade'] > 10)]\n",
    "df_grafico = df_stat\n",
    "\n",
    "# Selecionando as colunas relevantes para cada grupo\n",
    "group1 = ['PercentualCoberturaUnigramaNormal','PercentualCoberturaBigramaNormal', 'PercentualCoberturaBM25Normal']          \n",
    "group2 = ['PercentualCoberturaUnigramaLema','PercentualCoberturaBigramaLema','PercentualBM25CoberturaLema']\n",
    "group3 = ['PercentualAleatoriosCobertura']\n",
    "\n",
    "# Calculando as médias para cada grupo\n",
    "means_group1 = df_grafico[group1].mean()\n",
    "means_group2 = df_grafico[group2].mean()\n",
    "means_group3 = df_grafico[group3].mean()\n",
    "\n",
    "# Criando o gráfico\n",
    "fig, ax = plt.subplots(figsize=(10, 8))\n",
    "\n",
    "bar_width = 0.15  # Reduzindo a largura das barras\n",
    "group_width = 0.2  # Definindo a largura total de cada grupo\n",
    "\n",
    "index = np.arange(len(group1) + len(group2) + len(group3))\n",
    "\n",
    "bar1 = ax.bar(index[:3] - group_width/2, means_group1, bar_width, label='Normal')\n",
    "bar2 = ax.bar(index[3:6] - group_width/2, means_group2, bar_width, label='Lema')\n",
    "bar3 = ax.bar(index[6:7] - group_width/2, means_group3, bar_width, label='Aleatório')\n",
    "\n",
    "# Adicionando rótulos nas barras\n",
    "for i, mean_value in enumerate(means_group1):\n",
    "    ax.text(i - group_width/2 + bar_width/2, mean_value + 0.1, f'{mean_value:.2f}', ha='center', va='bottom')\n",
    "\n",
    "for i, mean_value in enumerate(means_group2):\n",
    "    ax.text(i + 3 - group_width/2 + bar_width/2, mean_value + 0.1, f'{mean_value:.2f}', ha='center', va='bottom')\n",
    "\n",
    "for i, mean_value in enumerate(means_group3):\n",
    "    ax.text(i + 6 - group_width/2 + bar_width/2, mean_value + 0.1, f'{mean_value:.2f}', ha='center', va='bottom')\n",
    "\n",
    "\n",
    "# Adicionando rótulos, legendas, etc.\n",
    "ax.set_xlabel('Algoritmos')\n",
    "ax.set_ylabel('Percentual de cobertura')\n",
    "ax.set_title('Percentual de cobertura dos algoritmos em relação à base de Verdade')\n",
    "ax.set_xticks(index - group_width/2 + bar_width/2)\n",
    "#ax.set_xticklabels(group1 + group2 + group3 + group4)\n",
    "plt.xticks((0, 1, 2, 3, 4, 5, 6), ('Cosseno\\n com TF-IDF', 'Cosseno\\n com BoW', 'BM25', 'Cosseno\\n com TF-IDF', 'Cosseno\\n com BoW', 'BM25', 'Aleatório'))\n",
    "ax.legend()\n",
    "\n",
    "# Exibindo o gráfico\n",
    "plt.show()\n"
   ]
  },
  {
   "cell_type": "markdown",
   "id": "dda7c541",
   "metadata": {},
   "source": []
  },
  {
   "cell_type": "code",
   "execution_count": null,
   "id": "8e03c51a",
   "metadata": {},
   "outputs": [],
   "source": [
    "index"
   ]
  },
  {
   "cell_type": "code",
   "execution_count": null,
   "id": "08ef0b56",
   "metadata": {},
   "outputs": [],
   "source": [
    "corpus_parla_normal = df_detalhes_materias[\"combinacao\"]\n",
    "corpus_parla_normal = [doc.translate(str.maketrans('', '', string.punctuation)).replace('\\n',' ').lower() for doc in corpus_parla_normal]\n",
    "tokenized_corpus_parla_normal = [doc.split(\" \") for doc in corpus_parla_normal]\n",
    "bm25_parla_normal = BM25Okapi(tokenized_corpus_parla_normal)"
   ]
  },
  {
   "cell_type": "code",
   "execution_count": null,
   "id": "4d15c4aa",
   "metadata": {},
   "outputs": [],
   "source": [
    "bm25_parla_normal"
   ]
  },
  {
   "cell_type": "code",
   "execution_count": null,
   "id": "d0ee63ff",
   "metadata": {},
   "outputs": [],
   "source": [
    "df_sugestoes_cosseno_geral_normal"
   ]
  },
  {
   "cell_type": "code",
   "execution_count": null,
   "id": "3c069270",
   "metadata": {},
   "outputs": [],
   "source": [
    "df_sugestoes_bm25_geral_lema"
   ]
  },
  {
   "cell_type": "code",
   "execution_count": null,
   "id": "43ca5e71",
   "metadata": {},
   "outputs": [],
   "source": [
    "df_sugestoes_cosseno_geral_normal.merge(df_sugestoes_bm25_geral_lema, on='Identificacao', how='inner')"
   ]
  },
  {
   "cell_type": "code",
   "execution_count": null,
   "id": "3d649774",
   "metadata": {},
   "outputs": [],
   "source": [
    "df_sugestoes_bm25_geral_lema.to_csv('meubm25.csv')"
   ]
  }
 ],
 "metadata": {
  "kernelspec": {
   "display_name": "Python 3 (ipykernel)",
   "language": "python",
   "name": "python3"
  },
  "language_info": {
   "codemirror_mode": {
    "name": "ipython",
    "version": 3
   },
   "file_extension": ".py",
   "mimetype": "text/x-python",
   "name": "python",
   "nbconvert_exporter": "python",
   "pygments_lexer": "ipython3",
   "version": "3.9.13"
  }
 },
 "nbformat": 4,
 "nbformat_minor": 5
}
