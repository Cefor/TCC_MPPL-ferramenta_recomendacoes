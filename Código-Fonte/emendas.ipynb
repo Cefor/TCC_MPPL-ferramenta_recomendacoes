{
 "cells": [
  {
   "cell_type": "code",
   "execution_count": 2,
   "id": "ce9e2505",
   "metadata": {},
   "outputs": [
    {
     "name": "stdout",
     "output_type": "stream",
     "text": [
      "Defaulting to user installation because normal site-packages is not writeable\n",
      "Requirement already satisfied: import-ipynb in c:\\programdata\\anaconda3\\lib\\site-packages (0.1.4)\n",
      "Requirement already satisfied: nbformat in c:\\programdata\\anaconda3\\lib\\site-packages (from import-ipynb) (5.5.0)\n",
      "Requirement already satisfied: IPython in c:\\programdata\\anaconda3\\lib\\site-packages (from import-ipynb) (7.31.1)\n",
      "Requirement already satisfied: setuptools>=18.5 in c:\\programdata\\anaconda3\\lib\\site-packages (from IPython->import-ipynb) (63.4.1)\n",
      "Requirement already satisfied: backcall in c:\\programdata\\anaconda3\\lib\\site-packages (from IPython->import-ipynb) (0.2.0)\n",
      "Requirement already satisfied: matplotlib-inline in c:\\programdata\\anaconda3\\lib\\site-packages (from IPython->import-ipynb) (0.1.6)\n",
      "Requirement already satisfied: pickleshare in c:\\programdata\\anaconda3\\lib\\site-packages (from IPython->import-ipynb) (0.7.5)\n",
      "Requirement already satisfied: pygments in c:\\programdata\\anaconda3\\lib\\site-packages (from IPython->import-ipynb) (2.11.2)\n",
      "Requirement already satisfied: traitlets>=4.2 in c:\\programdata\\anaconda3\\lib\\site-packages (from IPython->import-ipynb) (5.1.1)\n",
      "Requirement already satisfied: colorama in c:\\users\\carlo\\appdata\\roaming\\python\\python39\\site-packages (from IPython->import-ipynb) (0.4.6)\n",
      "Requirement already satisfied: prompt-toolkit!=3.0.0,!=3.0.1,<3.1.0,>=2.0.0 in c:\\programdata\\anaconda3\\lib\\site-packages (from IPython->import-ipynb) (3.0.20)\n",
      "Requirement already satisfied: jedi>=0.16 in c:\\programdata\\anaconda3\\lib\\site-packages (from IPython->import-ipynb) (0.18.1)\n",
      "Requirement already satisfied: decorator in c:\\programdata\\anaconda3\\lib\\site-packages (from IPython->import-ipynb) (5.1.1)\n",
      "Requirement already satisfied: jsonschema>=2.6 in c:\\programdata\\anaconda3\\lib\\site-packages (from nbformat->import-ipynb) (4.16.0)\n",
      "Requirement already satisfied: jupyter_core in c:\\programdata\\anaconda3\\lib\\site-packages (from nbformat->import-ipynb) (4.11.1)\n",
      "Requirement already satisfied: fastjsonschema in c:\\programdata\\anaconda3\\lib\\site-packages (from nbformat->import-ipynb) (2.16.2)\n",
      "Requirement already satisfied: parso<0.9.0,>=0.8.0 in c:\\programdata\\anaconda3\\lib\\site-packages (from jedi>=0.16->IPython->import-ipynb) (0.8.3)\n",
      "Requirement already satisfied: attrs>=17.4.0 in c:\\programdata\\anaconda3\\lib\\site-packages (from jsonschema>=2.6->nbformat->import-ipynb) (21.4.0)\n",
      "Requirement already satisfied: pyrsistent!=0.17.0,!=0.17.1,!=0.17.2,>=0.14.0 in c:\\programdata\\anaconda3\\lib\\site-packages (from jsonschema>=2.6->nbformat->import-ipynb) (0.18.0)\n",
      "Requirement already satisfied: wcwidth in c:\\programdata\\anaconda3\\lib\\site-packages (from prompt-toolkit!=3.0.0,!=3.0.1,<3.1.0,>=2.0.0->IPython->import-ipynb) (0.2.5)\n",
      "Requirement already satisfied: pywin32>=1.0 in c:\\programdata\\anaconda3\\lib\\site-packages (from jupyter_core->nbformat->import-ipynb) (302)\n",
      "importing Jupyter notebook from util.ipynb\n"
     ]
    }
   ],
   "source": [
    "!pip install import-ipynb\n",
    "import import_ipynb\n",
    "import util as u\n",
    "import pandas as pd"
   ]
  },
  {
   "cell_type": "code",
   "execution_count": 2,
   "id": "f0ebfe55",
   "metadata": {},
   "outputs": [],
   "source": [
    "def get_emendas_materia(codigo_materia):\n",
    "    url = \"https://legis.senado.leg.br/dadosabertos/materia/emendas/%d\" % codigo_materia    \n",
    "    df = u.parse_XML(url,[\"AutoriaEmenda/Autor/IdentificacaoParlamentar/CodigoParlamentar\", 'DataApresentacao'],\"Materia/Emendas/Emenda\")\n",
    "    df.rename(columns = {'AutoriaEmenda/Autor/IdentificacaoParlamentar/CodigoParlamentar' : 'CodigoParlamentar'}, inplace = True)        \n",
    "    df['DataApresentacao'] = pd.to_datetime(df['DataApresentacao'])\n",
    "    df['CodigoMateria'] = codigo_materia\n",
    "    df = df.set_index('CodigoMateria')\n",
    "    return df"
   ]
  },
  {
   "cell_type": "code",
   "execution_count": 4,
   "id": "c6c35e10",
   "metadata": {},
   "outputs": [],
   "source": [
    "df_detalhes_materias = pd.read_csv('df_detalhes_materias.csv')\n",
    "df_materias_pesquisar = pd.DataFrame(df_detalhes_materias)\n",
    "df_materias_pesquisar['PegouDetalhe'] = False\n",
    "df_emendas = pd.DataFrame()    "
   ]
  },
  {
   "cell_type": "code",
   "execution_count": 16,
   "id": "9aadc12c",
   "metadata": {},
   "outputs": [],
   "source": [
    "materias_aux = df_materias_pesquisar.loc[df_materias_pesquisar['PegouDetalhe'] == False]\n",
    "for codigo, row in materias_aux.iterrows():    \n",
    "    codigo_materia = row['CodigoMateria']    \n",
    "    df_emendas_da_materia = get_emendas_materia(int(codigo_materia))    \n",
    "    df_emendas = pd.concat([df_emendas,df_emendas_da_materia])    \n",
    "    df_materias_pesquisar.at[codigo, 'PegouDetalhe'] = True    "
   ]
  },
  {
   "cell_type": "code",
   "execution_count": 17,
   "id": "1ad9b323",
   "metadata": {},
   "outputs": [
    {
     "data": {
      "text/plain": [
       "0"
      ]
     },
     "execution_count": 17,
     "metadata": {},
     "output_type": "execute_result"
    }
   ],
   "source": [
    "len(df_materias_pesquisar.loc[df_materias_pesquisar['PegouDetalhe'] == False])"
   ]
  },
  {
   "cell_type": "code",
   "execution_count": 8,
   "id": "3b54d9c1",
   "metadata": {},
   "outputs": [
    {
     "data": {
      "text/plain": [
       "8125"
      ]
     },
     "execution_count": 8,
     "metadata": {},
     "output_type": "execute_result"
    }
   ],
   "source": [
    "len(df_materias_pesquisar.loc[df_materias_pesquisar['PegouDetalhe'] == True])"
   ]
  },
  {
   "cell_type": "code",
   "execution_count": 19,
   "id": "cabf710d",
   "metadata": {},
   "outputs": [
    {
     "data": {
      "text/plain": [
       "40330"
      ]
     },
     "execution_count": 19,
     "metadata": {},
     "output_type": "execute_result"
    }
   ],
   "source": [
    "len(df_emendas)"
   ]
  },
  {
   "cell_type": "code",
   "execution_count": 21,
   "id": "f02608cf",
   "metadata": {},
   "outputs": [],
   "source": [
    "df_emendas.to_csv('df_emendas.csv')"
   ]
  },
  {
   "cell_type": "code",
   "execution_count": 20,
   "id": "6d1ba691",
   "metadata": {},
   "outputs": [
    {
     "data": {
      "text/html": [
       "<div>\n",
       "<style scoped>\n",
       "    .dataframe tbody tr th:only-of-type {\n",
       "        vertical-align: middle;\n",
       "    }\n",
       "\n",
       "    .dataframe tbody tr th {\n",
       "        vertical-align: top;\n",
       "    }\n",
       "\n",
       "    .dataframe thead th {\n",
       "        text-align: right;\n",
       "    }\n",
       "</style>\n",
       "<table border=\"1\" class=\"dataframe\">\n",
       "  <thead>\n",
       "    <tr style=\"text-align: right;\">\n",
       "      <th></th>\n",
       "      <th>CodigoParlamentar</th>\n",
       "      <th>DataApresentacao</th>\n",
       "    </tr>\n",
       "    <tr>\n",
       "      <th>CodigoMateria</th>\n",
       "      <th></th>\n",
       "      <th></th>\n",
       "    </tr>\n",
       "  </thead>\n",
       "  <tbody>\n",
       "    <tr>\n",
       "      <th>73682</th>\n",
       "      <td>3393</td>\n",
       "      <td>2007-04-16</td>\n",
       "    </tr>\n",
       "    <tr>\n",
       "      <th>73682</th>\n",
       "      <td>3399</td>\n",
       "      <td>2009-05-21</td>\n",
       "    </tr>\n",
       "    <tr>\n",
       "      <th>80801</th>\n",
       "      <td>4877</td>\n",
       "      <td>2011-08-23</td>\n",
       "    </tr>\n",
       "    <tr>\n",
       "      <th>96399</th>\n",
       "      <td>5895</td>\n",
       "      <td>2022-06-21</td>\n",
       "    </tr>\n",
       "    <tr>\n",
       "      <th>99517</th>\n",
       "      <td>1173</td>\n",
       "      <td>2019-08-20</td>\n",
       "    </tr>\n",
       "    <tr>\n",
       "      <th>...</th>\n",
       "      <td>...</td>\n",
       "      <td>...</td>\n",
       "    </tr>\n",
       "    <tr>\n",
       "      <th>160970</th>\n",
       "      <td>6027</td>\n",
       "      <td>2023-11-13</td>\n",
       "    </tr>\n",
       "    <tr>\n",
       "      <th>161000</th>\n",
       "      <td>None</td>\n",
       "      <td>2023-11-09</td>\n",
       "    </tr>\n",
       "    <tr>\n",
       "      <th>161003</th>\n",
       "      <td>None</td>\n",
       "      <td>2023-11-09</td>\n",
       "    </tr>\n",
       "    <tr>\n",
       "      <th>161004</th>\n",
       "      <td>None</td>\n",
       "      <td>2023-11-09</td>\n",
       "    </tr>\n",
       "    <tr>\n",
       "      <th>161017</th>\n",
       "      <td>5376</td>\n",
       "      <td>2023-11-13</td>\n",
       "    </tr>\n",
       "  </tbody>\n",
       "</table>\n",
       "<p>40330 rows × 2 columns</p>\n",
       "</div>"
      ],
      "text/plain": [
       "              CodigoParlamentar DataApresentacao\n",
       "CodigoMateria                                   \n",
       "73682                      3393       2007-04-16\n",
       "73682                      3399       2009-05-21\n",
       "80801                      4877       2011-08-23\n",
       "96399                      5895       2022-06-21\n",
       "99517                      1173       2019-08-20\n",
       "...                         ...              ...\n",
       "160970                     6027       2023-11-13\n",
       "161000                     None       2023-11-09\n",
       "161003                     None       2023-11-09\n",
       "161004                     None       2023-11-09\n",
       "161017                     5376       2023-11-13\n",
       "\n",
       "[40330 rows x 2 columns]"
      ]
     },
     "execution_count": 20,
     "metadata": {},
     "output_type": "execute_result"
    }
   ],
   "source": [
    "df_emendas"
   ]
  },
  {
   "cell_type": "markdown",
   "id": "16f9d847",
   "metadata": {},
   "source": [
    "## Limpando as emendas pra ficar só com as dos senadores em questão"
   ]
  },
  {
   "cell_type": "code",
   "execution_count": 4,
   "id": "7f8f8d98",
   "metadata": {},
   "outputs": [],
   "source": [
    "df_emendas = pd.read_csv('df_emendas.csv')\n",
    "df_senadores = pd.read_csv('df_senadores.csv')"
   ]
  },
  {
   "cell_type": "code",
   "execution_count": 6,
   "id": "77ea2bfd",
   "metadata": {},
   "outputs": [
    {
     "data": {
      "text/plain": [
       "40330"
      ]
     },
     "execution_count": 6,
     "metadata": {},
     "output_type": "execute_result"
    }
   ],
   "source": [
    "len(df_emendas)"
   ]
  },
  {
   "cell_type": "code",
   "execution_count": 7,
   "id": "6186db98",
   "metadata": {},
   "outputs": [],
   "source": [
    "df_emendas = df_emendas.merge(df_senadores, on='CodigoParlamentar', how='inner')"
   ]
  },
  {
   "cell_type": "code",
   "execution_count": 8,
   "id": "0cf4f630",
   "metadata": {},
   "outputs": [
    {
     "data": {
      "text/plain": [
       "14410"
      ]
     },
     "execution_count": 8,
     "metadata": {},
     "output_type": "execute_result"
    }
   ],
   "source": [
    "len(df_emendas)"
   ]
  },
  {
   "cell_type": "code",
   "execution_count": 13,
   "id": "269b10a9",
   "metadata": {},
   "outputs": [],
   "source": [
    "df_emendas['CodigoParlamentar'] = df_emendas['CodigoParlamentar'].astype(int)"
   ]
  },
  {
   "cell_type": "code",
   "execution_count": 14,
   "id": "aca7fa4d",
   "metadata": {},
   "outputs": [],
   "source": [
    "df_emendas.to_csv('df_emendas_filtradas.csv')"
   ]
  },
  {
   "cell_type": "code",
   "execution_count": null,
   "id": "ab07f7c8",
   "metadata": {},
   "outputs": [],
   "source": []
  }
 ],
 "metadata": {
  "kernelspec": {
   "display_name": "Python 3 (ipykernel)",
   "language": "python",
   "name": "python3"
  },
  "language_info": {
   "codemirror_mode": {
    "name": "ipython",
    "version": 3
   },
   "file_extension": ".py",
   "mimetype": "text/x-python",
   "name": "python",
   "nbconvert_exporter": "python",
   "pygments_lexer": "ipython3",
   "version": "3.9.13"
  }
 },
 "nbformat": 4,
 "nbformat_minor": 5
}
