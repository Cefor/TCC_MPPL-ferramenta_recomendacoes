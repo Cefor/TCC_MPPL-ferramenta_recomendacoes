{
 "cells": [
  {
   "cell_type": "code",
   "execution_count": 4,
   "id": "522ddac3",
   "metadata": {},
   "outputs": [],
   "source": [
    "import pandas as pd\n",
    "import numpy as np\n",
    "import requests as rq\n",
    "import xml.etree.ElementTree as ET"
   ]
  },
  {
   "cell_type": "markdown",
   "id": "b310bb57",
   "metadata": {},
   "source": [
    "## Funções"
   ]
  },
  {
   "cell_type": "code",
   "execution_count": 5,
   "id": "953e94a1",
   "metadata": {},
   "outputs": [],
   "source": [
    "def parse_XML(url, df_cols, path_inicio): \n",
    "    \n",
    "    resp = rq.get(url)\n",
    "    conteudoXML = resp.content\n",
    "    tree = ET.ElementTree(ET.fromstring(conteudoXML))\n",
    "    xroot = tree.getroot()\n",
    "    inicio = xroot.findall(path_inicio)\n",
    "        \n",
    "    #xtree = et.parse(xml_file)\n",
    "    #xroot = xtree.getroot()\n",
    "    rows = []\n",
    "    \n",
    "    for node in inicio: \n",
    "        res = []\n",
    "        \n",
    "        for el in df_cols: \n",
    "            if node is not None and node.find(el) is not None:\n",
    "                res.append(node.find(el).text)\n",
    "            else: \n",
    "                res.append(None)\n",
    "        rows.append({df_cols[i]: res[i] \n",
    "                     for i, _ in enumerate(df_cols)})\n",
    "    \n",
    "    out_df = pd.DataFrame(rows, columns=df_cols)\n",
    "        \n",
    "    return out_df"
   ]
  },
  {
   "cell_type": "code",
   "execution_count": 6,
   "id": "d3d92510",
   "metadata": {},
   "outputs": [],
   "source": [
    "def get_detalhes_materia_completo(codigo_materia):\n",
    "    url = \"https://legis.senado.leg.br/dadosabertos/materia/%d\" % codigo_materia\n",
    "    col_rename = {\n",
    "        'IdentificacaoMateria/DescricaoIdentificacaoMateria': 'Identificacao',\n",
    "        'DadosBasicosMateria/EmentaMateria': 'Ementa',\n",
    "        'DadosBasicosMateria/IndexacaoMateria': 'Indexacao',\n",
    "        'DadosBasicosMateria/NaturezaMateria/DescricaoNatureza': 'Natureza',\n",
    "        'Classificacoes/Classificacao/DescricaoClasse': 'Classe',\n",
    "        'Classificacoes/Classificacao/DescricaoClasseHierarquica': 'ClasseHierarquica',\n",
    "        'DadosBasicosMateria/Autor': 'Autor',\n",
    "        'DadosBasicosMateria/ExplicacaoEmentaMateria': 'ExplicacaoEmenta'\n",
    "    }\n",
    "    df = parse_XML(url, list(col_rename.keys()), \"Materia\")\n",
    "    df.rename(columns=col_rename, inplace=True)\n",
    "    df['link'] = \"https://www25.senado.leg.br/web/atividade/materias/-/materia/%d\" % codigo_materia\n",
    "    df['CodigoMateria'] = codigo_materia    \n",
    "    return df"
   ]
  },
  {
   "cell_type": "markdown",
   "id": "73ae7887",
   "metadata": {},
   "source": [
    "## Área de testes"
   ]
  },
  {
   "cell_type": "code",
   "execution_count": 4,
   "id": "14acfd78",
   "metadata": {},
   "outputs": [],
   "source": [
    "url = \"https://legis.senado.leg.br/dadosabertos/materia/situacaoatual/153151\"\n",
    "df_cols = [\"Tramitando\"]\n",
    "path_inicio = \"Materias/Materia\"\n",
    "resp = rq.get(url)\n",
    "conteudoXML = resp.content\n",
    "tree = ET.ElementTree(ET.fromstring(conteudoXML))\n",
    "xroot = tree.getroot()\n",
    "inicio = xroot.findall(path_inicio)\n",
    "\n",
    "\n",
    "rows = []\n",
    "\n",
    "for node in inicio: \n",
    "    res = []\n",
    "\n",
    "    for el in df_cols: \n",
    "        \n",
    "        if node is not None and node.find(el) is not None:\n",
    "            res.append(node.find(el).text)\n",
    "        else: \n",
    "            res.append(None)\n",
    "    rows.append({df_cols[i]: res[i] \n",
    "                 for i, _ in enumerate(df_cols)})\n",
    "\n",
    "out_df = pd.DataFrame(rows, columns=df_cols)"
   ]
  },
  {
   "cell_type": "code",
   "execution_count": 5,
   "id": "8e15d5b7",
   "metadata": {
    "scrolled": true
   },
   "outputs": [
    {
     "data": {
      "text/html": [
       "<div>\n",
       "<style scoped>\n",
       "    .dataframe tbody tr th:only-of-type {\n",
       "        vertical-align: middle;\n",
       "    }\n",
       "\n",
       "    .dataframe tbody tr th {\n",
       "        vertical-align: top;\n",
       "    }\n",
       "\n",
       "    .dataframe thead th {\n",
       "        text-align: right;\n",
       "    }\n",
       "</style>\n",
       "<table border=\"1\" class=\"dataframe\">\n",
       "  <thead>\n",
       "    <tr style=\"text-align: right;\">\n",
       "      <th></th>\n",
       "      <th>Tramitando</th>\n",
       "    </tr>\n",
       "  </thead>\n",
       "  <tbody>\n",
       "    <tr>\n",
       "      <th>0</th>\n",
       "      <td>Nao</td>\n",
       "    </tr>\n",
       "  </tbody>\n",
       "</table>\n",
       "</div>"
      ],
      "text/plain": [
       "  Tramitando\n",
       "0        Nao"
      ]
     },
     "execution_count": 5,
     "metadata": {},
     "output_type": "execute_result"
    }
   ],
   "source": [
    "out_df"
   ]
  },
  {
   "cell_type": "code",
   "execution_count": 7,
   "id": "7fc51b4e",
   "metadata": {},
   "outputs": [
    {
     "data": {
      "text/html": [
       "<div>\n",
       "<style scoped>\n",
       "    .dataframe tbody tr th:only-of-type {\n",
       "        vertical-align: middle;\n",
       "    }\n",
       "\n",
       "    .dataframe tbody tr th {\n",
       "        vertical-align: top;\n",
       "    }\n",
       "\n",
       "    .dataframe thead th {\n",
       "        text-align: right;\n",
       "    }\n",
       "</style>\n",
       "<table border=\"1\" class=\"dataframe\">\n",
       "  <thead>\n",
       "    <tr style=\"text-align: right;\">\n",
       "      <th></th>\n",
       "      <th>Identificacao</th>\n",
       "      <th>Ementa</th>\n",
       "      <th>Indexacao</th>\n",
       "      <th>Natureza</th>\n",
       "      <th>Classe</th>\n",
       "      <th>ClasseHierarquica</th>\n",
       "      <th>Autor</th>\n",
       "      <th>ExplicacaoEmenta</th>\n",
       "      <th>link</th>\n",
       "      <th>CodigoMateria</th>\n",
       "    </tr>\n",
       "  </thead>\n",
       "  <tbody>\n",
       "    <tr>\n",
       "      <th>0</th>\n",
       "      <td>PL 1864/2019</td>\n",
       "      <td>Altera o Decreto-Lei nº 2.848, de 7 de dezembr...</td>\n",
       "      <td>ALTERAÇÃO ,  CODIGO PENAL ,  CODIGO DE PROCES...</td>\n",
       "      <td>Norma Geral</td>\n",
       "      <td>Direito Penal e Penitenciário</td>\n",
       "      <td>Jurídico / Direito Penal e Penitenciário</td>\n",
       "      <td>Senadora Eliziane Gama (CIDADANIA/MA), Senador...</td>\n",
       "      <td>Estabelece medidas contra a corrupção, o crime...</td>\n",
       "      <td>https://www25.senado.leg.br/web/atividade/mate...</td>\n",
       "      <td>136033</td>\n",
       "    </tr>\n",
       "  </tbody>\n",
       "</table>\n",
       "</div>"
      ],
      "text/plain": [
       "  Identificacao                                             Ementa  \\\n",
       "0  PL 1864/2019  Altera o Decreto-Lei nº 2.848, de 7 de dezembr...   \n",
       "\n",
       "                                           Indexacao     Natureza  \\\n",
       "0   ALTERAÇÃO ,  CODIGO PENAL ,  CODIGO DE PROCES...  Norma Geral   \n",
       "\n",
       "                          Classe                         ClasseHierarquica  \\\n",
       "0  Direito Penal e Penitenciário  Jurídico / Direito Penal e Penitenciário   \n",
       "\n",
       "                                               Autor  \\\n",
       "0  Senadora Eliziane Gama (CIDADANIA/MA), Senador...   \n",
       "\n",
       "                                    ExplicacaoEmenta  \\\n",
       "0  Estabelece medidas contra a corrupção, o crime...   \n",
       "\n",
       "                                                link  CodigoMateria  \n",
       "0  https://www25.senado.leg.br/web/atividade/mate...         136033  "
      ]
     },
     "execution_count": 7,
     "metadata": {},
     "output_type": "execute_result"
    }
   ],
   "source": [
    "df = get_detalhes_materia_completo(136033)\n",
    "df"
   ]
  },
  {
   "cell_type": "code",
   "execution_count": null,
   "id": "116785ee",
   "metadata": {},
   "outputs": [],
   "source": []
  }
 ],
 "metadata": {
  "kernelspec": {
   "display_name": "Python 3 (ipykernel)",
   "language": "python",
   "name": "python3"
  },
  "language_info": {
   "codemirror_mode": {
    "name": "ipython",
    "version": 3
   },
   "file_extension": ".py",
   "mimetype": "text/x-python",
   "name": "python",
   "nbconvert_exporter": "python",
   "pygments_lexer": "ipython3",
   "version": "3.9.13"
  }
 },
 "nbformat": 4,
 "nbformat_minor": 5
}
