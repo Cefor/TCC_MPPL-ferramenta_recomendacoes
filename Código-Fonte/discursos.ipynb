{
 "cells": [
  {
   "cell_type": "code",
   "execution_count": null,
   "id": "18bc4eea",
   "metadata": {},
   "outputs": [],
   "source": [
    "#!pip install import-ipynb\n",
    "import pandas as pd\n",
    "import numpy as np\n",
    "import requests as rq\n",
    "import import_ipynb\n",
    "import util as u\n",
    "from bs4 import BeautifulSoup"
   ]
  },
  {
   "cell_type": "code",
   "execution_count": null,
   "id": "8d23a065",
   "metadata": {},
   "outputs": [],
   "source": [
    "def get_dados_discursos(codigo_parlamentar, ano):\n",
    "    dataInicio = str(ano) + \"0101\"\n",
    "    dataFim = str(ano) + \"1231\"\n",
    "    urlDiscursos = \"https://legis.senado.leg.br/dadosabertos/senador/\"+str(codigo_parlamentar)+\"/discursos?dataInicio=\"+dataInicio+\"&dataFim=\"+dataFim    \n",
    "    df = u.parse_XML(urlDiscursos,[\"CodigoPronunciamento\",\"UrlTexto\",\"DataPronunciamento\",\"TextoResumo\",\"TipoUsoPalavra/Sigla\",\"TipoUsoPalavra/Descricao\"],\"Parlamentar/Pronunciamentos/Pronunciamento\")\n",
    "    df = df.set_index('CodigoPronunciamento')\n",
    "    df.rename(columns={'TipoUsoPalavra/Sigla': 'TipoSigla', 'TipoUsoPalavra/Descricao': 'TipoDescricao'}, inplace=True)\n",
    "    df['CodigoParlamentar'] = codigo_parlamentar\n",
    "    return df"
   ]
  },
  {
   "cell_type": "code",
   "execution_count": null,
   "id": "5660715a",
   "metadata": {},
   "outputs": [],
   "source": [
    "def get_materias_citadas_discursos(codigoParlamentar, ano):\n",
    "    df_discursos_URL = get_dados_discursos(codigoParlamentar,ano)\n",
    "    df_materias_discurso = pd.DataFrame()\n",
    "    for codigo, row in df_discursos_URL.iterrows():            \n",
    "        url = row['UrlTexto']\n",
    "        dataDiscurso = row['DataPronunciamento']\n",
    "        resumoDiscurso = row['TextoResumo']\n",
    "        tipoSigla = row['TipoSigla']\n",
    "        tipoDescricao = row['TipoDescricao']\n",
    "        siglasAceitas = ['POR','PDI','PEN','PL','DIS']\n",
    "        if (tipoSigla in siglasAceitas):\n",
    "            page = rq.get(url)    \n",
    "            soup = BeautifulSoup(page.text, 'html.parser')    \n",
    "            for link in soup.find_all('a'):\n",
    "                href = link.get('href')          \n",
    "                \n",
    "                if (href is not None):            \n",
    "                    texto_pesquisar = 'materia/'\n",
    "                    indice = href.find(texto_pesquisar)\n",
    "                    if (indice!=-1):\n",
    "                        codigo_materia = int(href[indice+len(texto_pesquisar):])                \n",
    "                        data = [[codigoParlamentar, codigo, url, ano, dataDiscurso,resumoDiscurso, codigo_materia, tipoSigla, tipoDescricao]]\n",
    "                        df_materia = pd.DataFrame(data,columns=['codigoParlamentar', 'codigoDiscurso','urlDiscurso','anoDiscurso','dataDiscurso','resumoDiscurso','codigoMateria','tipoSigla','tipoDescricao'])\n",
    "                        #print(df_materia)\n",
    "                        df_materias_discurso = pd.concat([df_materias_discurso,df_materia])\n",
    "    return df_materias_discurso"
   ]
  },
  {
   "cell_type": "code",
   "execution_count": null,
   "id": "c4391209",
   "metadata": {},
   "outputs": [],
   "source": [
    "def get_complementacao_materias_citadas_discursos(codigoParlamentar,ano):\n",
    "    \n",
    "    \n",
    "    df_discursos_URL = get_dados_discursos(codigoParlamentar,ano)    \n",
    "\n",
    "    #Filtrando os que já existem na lista    \n",
    "    codigo_discurso_lista = df_discursos['codigoDiscurso'].tolist()    \n",
    "    lista_strings = [str(valor) for valor in codigo_discurso_lista]\n",
    "    mascara = ~df_discursos_URL.index.isin(lista_strings)\n",
    "    df_discursos_URL_filtrado = df_discursos_URL[mascara]\n",
    "\n",
    "    df_materias_discurso = pd.DataFrame()\n",
    "    for codigo, row in df_discursos_URL_filtrado.iterrows():            \n",
    "        url = row['UrlTexto']\n",
    "        dataDiscurso = row['DataPronunciamento']\n",
    "        resumoDiscurso = row['TextoResumo']\n",
    "        tipoSigla = row['TipoSigla']\n",
    "        tipoDescricao = row['TipoDescricao']\n",
    "        siglasAceitas = ['POR','PDI','PEN','PL','DIS','APA']\n",
    "        if (tipoSigla in siglasAceitas):\n",
    "            page = rq.get(url)    \n",
    "            soup = BeautifulSoup(page.text, 'html.parser')    \n",
    "            for link in soup.find_all('a'):\n",
    "                href = link.get('href')          \n",
    "\n",
    "                if (href is not None):            \n",
    "                    texto_pesquisar = 'materia/'\n",
    "                    indice = href.find(texto_pesquisar)\n",
    "                    if (indice!=-1):\n",
    "                        codigo_materia = int(href[indice+len(texto_pesquisar):])                \n",
    "                        data = [[codigoParlamentar, codigo, url, ano, dataDiscurso,resumoDiscurso, codigo_materia, tipoSigla, tipoDescricao]]\n",
    "                        df_materia = pd.DataFrame(data,columns=['codigoParlamentar', 'codigoDiscurso','urlDiscurso','anoDiscurso','dataDiscurso','resumoDiscurso','codigoMateria','tipoSigla','tipoDescricao'])\n",
    "                        #print(df_materia)\n",
    "                        df_materias_discurso = pd.concat([df_materias_discurso,df_materia])\n",
    "    return df_materias_discurso"
   ]
  },
  {
   "cell_type": "markdown",
   "id": "4c5f9c2b",
   "metadata": {},
   "source": [
    "## Carrega dados"
   ]
  },
  {
   "cell_type": "code",
   "execution_count": null,
   "id": "5aae0920",
   "metadata": {},
   "outputs": [],
   "source": [
    "#Quando é a primeira vez\n",
    "df_senadores = pd.read_csv(\"df_senadores.csv\",sep=\",\")\n",
    "\n",
    "\n",
    "df_senadores\n",
    "df_senadores['PegouDetalhe'] = False\n",
    "df_discursos = pd.DataFrame()"
   ]
  },
  {
   "cell_type": "code",
   "execution_count": null,
   "id": "528d88a7",
   "metadata": {},
   "outputs": [],
   "source": [
    "#Continuar pegando os discursos\n",
    "#df_senadores = pd.read_csv(\"df_senadores_discursos.csv\",sep=\",\")\n",
    "df_discursos = pd.read_csv(\"df_discursos.csv\",sep=\",\")"
   ]
  },
  {
   "cell_type": "code",
   "execution_count": null,
   "id": "bdc89644",
   "metadata": {},
   "outputs": [],
   "source": [
    "#Alimentação INICIAL\n",
    "parla_aux = df_senadores.loc[df_senadores['PegouDetalhe'] == False]\n",
    "for index, row in parla_aux.head(5).iterrows():            \n",
    "        codigo_parlamentar = row['CodigoParlamentar']\n",
    "        anos = [2019, 2020, 2021, 2022,2023]\n",
    "        for ano in anos:\n",
    "            df_discursos_senador = get_materias_citadas_discursos(codigo_parlamentar,ano)\n",
    "            df_discursos = pd.concat([df_discursos,df_discursos_senador])\n",
    "            df_senadores.at[index, 'PegouDetalhe'] = True   "
   ]
  },
  {
   "cell_type": "code",
   "execution_count": null,
   "id": "8768beda",
   "metadata": {},
   "outputs": [],
   "source": [
    "#ATUALIZAÇÃO DOS DISCURSOS INICIAL\n",
    "parla_aux = df_senadores.loc[df_senadores['PegouDetalhe'] == False]\n",
    "for index, row in parla_aux.iterrows():            \n",
    "        codigo_parlamentar = row['CodigoParlamentar']\n",
    "        anos = [2023]\n",
    "        for ano in anos:\n",
    "            df_discursos_senador = get_complementacao_materias_citadas_discursos(codigo_parlamentar,ano)\n",
    "            df_discursos = pd.concat([df_discursos,df_discursos_senador])\n",
    "            df_senadores.at[index, 'PegouDetalhe'] = True   "
   ]
  },
  {
   "cell_type": "code",
   "execution_count": null,
   "id": "a5ea9a96",
   "metadata": {},
   "outputs": [],
   "source": [
    "df_senadores.loc[df_senadores['PegouDetalhe'] == True]"
   ]
  },
  {
   "cell_type": "code",
   "execution_count": null,
   "id": "61754279",
   "metadata": {},
   "outputs": [],
   "source": [
    "df_senadores.loc[df_senadores['PegouDetalhe'] == False]"
   ]
  },
  {
   "cell_type": "code",
   "execution_count": null,
   "id": "9c63560c",
   "metadata": {},
   "outputs": [],
   "source": [
    "df_discursos"
   ]
  },
  {
   "cell_type": "code",
   "execution_count": null,
   "id": "ee9fe0be",
   "metadata": {},
   "outputs": [],
   "source": [
    "len(df_discursos)"
   ]
  },
  {
   "cell_type": "code",
   "execution_count": null,
   "id": "fd350131",
   "metadata": {},
   "outputs": [],
   "source": [
    "# Remove as duplicatas\n",
    "df_discursos = df_discursos.drop_duplicates(subset=['codigoParlamentar','codigoDiscurso', 'codigoMateria'])"
   ]
  },
  {
   "cell_type": "code",
   "execution_count": null,
   "id": "1c7279c8",
   "metadata": {},
   "outputs": [],
   "source": [
    "# Pesquisa pelas duplicatas\n",
    "df_discursos.groupby(['codigoDiscurso', 'codigoMateria']).filter(lambda x: len(x) > 1)"
   ]
  },
  {
   "cell_type": "code",
   "execution_count": 31,
   "id": "1a775012",
   "metadata": {},
   "outputs": [],
   "source": [
    "df_discursos.to_csv('df_discurso.csv', index=False)"
   ]
  },
  {
   "cell_type": "markdown",
   "id": "8ad9bf11",
   "metadata": {},
   "source": [
    "# Área de query"
   ]
  },
  {
   "cell_type": "code",
   "execution_count": null,
   "id": "89e077ee",
   "metadata": {},
   "outputs": [],
   "source": [
    "df_discursos"
   ]
  },
  {
   "cell_type": "code",
   "execution_count": null,
   "id": "21542fe4",
   "metadata": {},
   "outputs": [],
   "source": [
    "df_senadores.loc[df_senadores['PegouDetalhe'] == False]"
   ]
  },
  {
   "cell_type": "code",
   "execution_count": null,
   "id": "1b58facd",
   "metadata": {},
   "outputs": [],
   "source": [
    "df_discursos = pd.read_csv('df_discursos.csv')"
   ]
  },
  {
   "cell_type": "code",
   "execution_count": null,
   "id": "4c49ad87",
   "metadata": {},
   "outputs": [],
   "source": [
    "df_discursos"
   ]
  },
  {
   "cell_type": "code",
   "execution_count": null,
   "id": "1ab5cb8b",
   "metadata": {},
   "outputs": [],
   "source": []
  }
 ],
 "metadata": {
  "kernelspec": {
   "display_name": "Python 3 (ipykernel)",
   "language": "python",
   "name": "python3"
  },
  "language_info": {
   "codemirror_mode": {
    "name": "ipython",
    "version": 3
   },
   "file_extension": ".py",
   "mimetype": "text/x-python",
   "name": "python",
   "nbconvert_exporter": "python",
   "pygments_lexer": "ipython3",
   "version": "3.9.13"
  }
 },
 "nbformat": 4,
 "nbformat_minor": 5
}
