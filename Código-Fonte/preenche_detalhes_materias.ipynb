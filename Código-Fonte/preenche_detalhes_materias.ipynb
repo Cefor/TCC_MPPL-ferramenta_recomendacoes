{
 "cells": [
  {
   "cell_type": "code",
   "execution_count": null,
   "id": "2c6259f1",
   "metadata": {},
   "outputs": [],
   "source": [
    "!pip install import-ipynb\n",
    "import import_ipynb\n",
    "import util as u\n",
    "import pandas as pd\n",
    "import numpy as np\n",
    "import requests as rq\n",
    "import xml.etree.ElementTree as ET\n",
    "from sklearn.feature_extraction.text import CountVectorizer\n",
    "from sklearn.metrics.pairwise import cosine_similarity"
   ]
  },
  {
   "cell_type": "code",
   "execution_count": null,
   "id": "1abc97d7",
   "metadata": {},
   "outputs": [],
   "source": [
    "def get_materias_legislatura_atual():\n",
    "    url = \"https://legis.senado.leg.br/dadosabertos/materia/legislaturaatual\"\n",
    "    df = u.parse_XML(url,[\"DescricaoIdentificacaoMateria\",\"CodigoMateria\",\"IndicadorTramitando\"],\"Materias/Materia/IdentificacaoMateria\")\n",
    "    df.rename(columns = {'DescricaoIdentificacaoMateria' : 'Identificacao'}, inplace = True)\n",
    "    df.rename(columns = {'IndicadorTramitando' : 'Tramitando'}, inplace = True)\n",
    "    df.set_index('CodigoMateria')\n",
    "    return df"
   ]
  },
  {
   "cell_type": "code",
   "execution_count": null,
   "id": "cb987c5e",
   "metadata": {},
   "outputs": [],
   "source": [
    "def get_materias_tramitando():\n",
    "    url = \"https://legis.senado.leg.br/dadosabertos/materia/tramitando\"\n",
    "    df = u.parse_XML(url,[\"DescricaoIdentificacaoMateria\",\"CodigoMateria\",\"IndicadorTramitando\"],\"Materias/Materia/IdentificacaoMateria\")\n",
    "    df.rename(columns = {'DescricaoIdentificacaoMateria' : 'Identificacao'}, inplace = True)\n",
    "    df.rename(columns = {'IndicadorTramitando' : 'Tramitando'}, inplace = True)\n",
    "    df.set_index('CodigoMateria')\n",
    "    return df"
   ]
  },
  {
   "cell_type": "code",
   "execution_count": null,
   "id": "c4f5c22e",
   "metadata": {},
   "outputs": [],
   "source": [
    "def get_detalhes_materia(codigo_materia):\n",
    "    url = \"https://legis.senado.leg.br/dadosabertos/materia/%d\" % codigo_materia\n",
    "    df = u.parse_XML(url,[\"IdentificacaoMateria/DescricaoIdentificacaoMateria\",\"DadosBasicosMateria/EmentaMateria\",\"DadosBasicosMateria/IndexacaoMateria\",\"DadosBasicosMateria/NaturezaMateria/DescricaoNatureza\",\"Classificacoes/Classificacao/DescricaoClasse\",\"Classificacoes/Classificacao/DescricaoClasseHierarquica\"],\"Materia\")\n",
    "    df.rename(columns = {'IdentificacaoMateria/DescricaoIdentificacaoMateria' : 'Identificacao'}, inplace = True)\n",
    "    df.rename(columns = {'DadosBasicosMateria/EmentaMateria' : 'Ementa'}, inplace = True)\n",
    "    df.rename(columns = {'DadosBasicosMateria/IndexacaoMateria' : 'Indexacao'}, inplace = True)\n",
    "    df.rename(columns = {'DadosBasicosMateria/NaturezaMateria/DescricaoNatureza' : 'Natureza'}, inplace = True)\n",
    "    df.rename(columns = {'Classificacoes/Classificacao/DescricaoClasse' : 'Classe'}, inplace = True)\n",
    "    df.rename(columns = {'Classificacoes/Classificacao/DescricaoClasseHierarquica' : 'ClasseHierarquica'}, inplace = True)\n",
    "    df['CodigoMateria'] = codigo_materia\n",
    "    df.set_index('CodigoMateria')\n",
    "    return df"
   ]
  },
  {
   "cell_type": "code",
   "execution_count": null,
   "id": "931c54b7",
   "metadata": {},
   "outputs": [],
   "source": [
    "def get_emendas_materia(codigo_materia):\n",
    "    url = \"https://legis.senado.leg.br/dadosabertos/materia/emendas/%d\" % codigo_materia    \n",
    "    df = u.parse_XML(url,[\"AutoriaEmenda/Autor/IdentificacaoParlamentar/CodigoParlamentar\", 'DataApresentacao'],\"Materia/Emendas/Emenda\")\n",
    "    df.rename(columns = {'AutoriaEmenda/Autor/IdentificacaoParlamentar/CodigoParlamentar' : 'CodigoParlamentar'}, inplace = True)        \n",
    "    df['DataApresentacao'] = pd.to_datetime(df['DataApresentacao'])\n",
    "    df['CodigoMateria'] = codigo_materia\n",
    "    df = df.set_index('CodigoMateria')\n",
    "    return df"
   ]
  },
  {
   "cell_type": "code",
   "execution_count": null,
   "id": "3a42282c",
   "metadata": {},
   "outputs": [],
   "source": [
    "def isMateriaTramitando(CodigoMateria,DataFrameMateriasTramitando):\n",
    "    if (CodigoMateria in DataFrameMateriasTramitando.CodigoMateria.values):\n",
    "        return \"Sim\"\n",
    "    else:\n",
    "        return \"Não\""
   ]
  },
  {
   "cell_type": "markdown",
   "id": "defdff43",
   "metadata": {},
   "source": [
    "### Recupera as matérias da legislatura atual"
   ]
  },
  {
   "cell_type": "code",
   "execution_count": null,
   "id": "b4a31919",
   "metadata": {},
   "outputs": [],
   "source": [
    "materias_legislatura_atual = get_materias_legislatura_atual()\n",
    "materias_legislatura_atual = materias_legislatura_atual.set_index('CodigoMateria')"
   ]
  },
  {
   "cell_type": "code",
   "execution_count": null,
   "id": "2b0a1c72",
   "metadata": {},
   "outputs": [],
   "source": [
    "#A coluna \"PegouDetalhe\" servirá para controlar o preenchimento dos detalhes\n",
    "materias_legislatura_atual.insert(1,\"PegouDetalhe\",False)"
   ]
  },
  {
   "cell_type": "code",
   "execution_count": null,
   "id": "ee37f0fa",
   "metadata": {},
   "outputs": [],
   "source": [
    "# Considera apenas as matérias que estejam tramitando no momneto\n",
    "materias_legislatura_atual = materias_legislatura_atual.query('Tramitando == \"Sim\"')"
   ]
  },
  {
   "cell_type": "code",
   "execution_count": null,
   "id": "3ee3c094",
   "metadata": {},
   "outputs": [],
   "source": [
    "len(materias_legislatura_atual)"
   ]
  },
  {
   "cell_type": "markdown",
   "id": "e7bbc219",
   "metadata": {},
   "source": [
    "### Busca os detalhes de cada matéria"
   ]
  },
  {
   "cell_type": "code",
   "execution_count": null,
   "id": "9a909caa",
   "metadata": {},
   "outputs": [],
   "source": [
    "df_detalhes_materias = pd.DataFrame()"
   ]
  },
  {
   "cell_type": "code",
   "execution_count": null,
   "id": "005b7667",
   "metadata": {},
   "outputs": [],
   "source": [
    "materias_aux = df_materias_pesquisar.loc[df_materias_pesquisar['PegouDetalhe'] == False]\n",
    "for codigo, row in materias_aux[0:2000].iterrows():    \n",
    "    try:\n",
    "        df_detalhe = get_detalhes_materia(int(codigo))\n",
    "        df_detalhes_materias = pd.concat([df_detalhes_materias,df_detalhe])\n",
    "        df_materias_pesquisar.at[codigo, 'PegouDetalhe'] = True    \n",
    "    except TimeoutError:\n",
    "        print (\"não achei %s\" % codigo)"
   ]
  },
  {
   "cell_type": "code",
   "execution_count": null,
   "id": "659f39f9",
   "metadata": {},
   "outputs": [],
   "source": [
    "df_detalhes_materias"
   ]
  },
  {
   "cell_type": "code",
   "execution_count": null,
   "id": "06bbd4d5",
   "metadata": {},
   "outputs": [],
   "source": [
    "df_materias_pesquisar.loc[df_materias_pesquisar['PegouDetalhe'] == True]"
   ]
  },
  {
   "cell_type": "code",
   "execution_count": null,
   "id": "d53532d5",
   "metadata": {},
   "outputs": [],
   "source": [
    "df_materias_pesquisar.loc[df_materias_pesquisar['PegouDetalhe'] == False]"
   ]
  },
  {
   "cell_type": "code",
   "execution_count": null,
   "id": "2909f3a2",
   "metadata": {},
   "outputs": [],
   "source": [
    "materias_legislatura_atual.set_index('CodigoMateria')"
   ]
  },
  {
   "cell_type": "code",
   "execution_count": null,
   "id": "69145122",
   "metadata": {},
   "outputs": [],
   "source": [
    "materias_legislatura_atual['PegouDetalhe'] = False"
   ]
  },
  {
   "cell_type": "markdown",
   "id": "5b57e99b",
   "metadata": {},
   "source": [
    "# Atualização das matérias"
   ]
  },
  {
   "cell_type": "code",
   "execution_count": null,
   "id": "3660f7ef",
   "metadata": {},
   "outputs": [],
   "source": [
    "df_detalhes_materias = pd.read_csv(\"df_detalhes_materias.csv\",sep=\",\")\n",
    "df_materias_legislatura_atual = get_materias_legislatura_atual()\n",
    "df_materias_legislatura_atual = df_materias_legislatura_atual.set_index('CodigoMateria')\n",
    "df_materias_legislatura_atual = df_materias_legislatura_atual.query('Tramitando == \"Sim\"')"
   ]
  },
  {
   "cell_type": "code",
   "execution_count": null,
   "id": "f99b330c",
   "metadata": {},
   "outputs": [],
   "source": [
    "len(df_detalhes_materias)"
   ]
  },
  {
   "cell_type": "code",
   "execution_count": null,
   "id": "92a282b0",
   "metadata": {},
   "outputs": [],
   "source": [
    "df_detalhes_materias.head(1)"
   ]
  },
  {
   "cell_type": "code",
   "execution_count": null,
   "id": "517ddaba",
   "metadata": {},
   "outputs": [],
   "source": [
    "df_materias_legislatura_atual.head(1)"
   ]
  },
  {
   "cell_type": "code",
   "execution_count": null,
   "id": "93f91d23",
   "metadata": {},
   "outputs": [],
   "source": [
    "len(df_materias_legislatura_atual)"
   ]
  },
  {
   "cell_type": "code",
   "execution_count": null,
   "id": "1bfe48b2",
   "metadata": {},
   "outputs": [],
   "source": [
    "#Filtrando os que já existem na lista    \n",
    "codigo_materia_lista = df_detalhes_materias['CodigoMateria'].tolist()    \n",
    "lista_strings = [str(valor) for valor in codigo_materia_lista]\n",
    "mascara = ~df_materias_legislatura_atual.index.isin(lista_strings)\n",
    "df_filtrado = df_materias_legislatura_atual[mascara]\n",
    "df_materias_pesquisar = pd.DataFrame(df_filtrado)\n",
    "df_materias_pesquisar.insert(1,\"PegouDetalhe\",False)"
   ]
  },
  {
   "cell_type": "code",
   "execution_count": null,
   "id": "37243f9c",
   "metadata": {},
   "outputs": [],
   "source": [
    "#Quantidade de novas matérias para adicionar\n",
    "len(df_materias_pesquisar)"
   ]
  },
  {
   "cell_type": "code",
   "execution_count": null,
   "id": "6f2d57b1",
   "metadata": {},
   "outputs": [],
   "source": [
    "df_materias_pesquisar.head(5)"
   ]
  },
  {
   "cell_type": "code",
   "execution_count": null,
   "id": "e3d0e7bb",
   "metadata": {},
   "outputs": [],
   "source": [
    "materias_aux = df_materias_pesquisar.loc[df_materias_pesquisar['PegouDetalhe'] == False]\n",
    "for codigo, row in materias_aux.iterrows():    \n",
    "    try:\n",
    "        df_detalhe = get_detalhes_materia(int(codigo))\n",
    "        df_detalhes_materias = pd.concat([df_detalhes_materias,df_detalhe])\n",
    "        df_materias_pesquisar.at[codigo, 'PegouDetalhe'] = True    \n",
    "    except TimeoutError:\n",
    "        print (\"não achei %s\" % codigo)"
   ]
  },
  {
   "cell_type": "code",
   "execution_count": null,
   "id": "69aa0e00",
   "metadata": {},
   "outputs": [],
   "source": [
    "len(df_materias_pesquisar.loc[df_materias_pesquisar['PegouDetalhe'] == False])"
   ]
  },
  {
   "cell_type": "code",
   "execution_count": null,
   "id": "0f99d80a",
   "metadata": {},
   "outputs": [],
   "source": [
    "len(df_materias_pesquisar.loc[df_materias_pesquisar['PegouDetalhe'] == True])"
   ]
  },
  {
   "cell_type": "code",
   "execution_count": null,
   "id": "8a30096e",
   "metadata": {},
   "outputs": [],
   "source": [
    "df_detalhes_materias.to_csv('df_detalhes_materias.csv',index = False)"
   ]
  },
  {
   "cell_type": "markdown",
   "id": "8149b38e",
   "metadata": {},
   "source": [
    "# Atualização das matérias de interesse"
   ]
  },
  {
   "cell_type": "code",
   "execution_count": null,
   "id": "2a3ae5dc",
   "metadata": {},
   "outputs": [],
   "source": [
    "df_detalhes_materias = pd.read_csv(\"df_detalhes_materias.csv\",sep=\",\")\n",
    "df_combinado = pd.read_csv('interesse.csv')\n",
    "mascara = ~df_combinado['CodigoMateria'].isin(df_detalhes_materias['CodigoMateria'])\n",
    "df_filtrado = df_combinado[mascara]\n",
    "df_materias_pesquisar = pd.DataFrame(df_filtrado)\n",
    "df_materias_pesquisar.insert(1,\"PegouDetalhe\",False)\n",
    "df_materias_pesquisar = df_materias_pesquisar.set_index('CodigoMateria')\n",
    "#Remeve as duplicatas\n",
    "df_materias_pesquisar = df_materias_pesquisar[~df_materias_pesquisar.index.duplicated(keep='first')]"
   ]
  },
  {
   "cell_type": "code",
   "execution_count": null,
   "id": "ebeb7676",
   "metadata": {},
   "outputs": [],
   "source": [
    "#Quantidade de novas matérias para adicionar\n",
    "len(df_materias_pesquisar)"
   ]
  },
  {
   "cell_type": "code",
   "execution_count": null,
   "id": "f5f601a8",
   "metadata": {},
   "outputs": [],
   "source": [
    "materias_aux = df_materias_pesquisar.loc[df_materias_pesquisar['PegouDetalhe'] == False]\n",
    "for codigo, row in materias_aux.iterrows():    \n",
    "    try:        \n",
    "        df_detalhe = get_detalhes_materia(int(codigo))\n",
    "        df_detalhes_materias = pd.concat([df_detalhes_materias,df_detalhe])\n",
    "        df_materias_pesquisar.at[codigo, 'PegouDetalhe'] = True    \n",
    "    except TimeoutError:\n",
    "        print (\"não achei %s\" % codigo)"
   ]
  },
  {
   "cell_type": "code",
   "execution_count": null,
   "id": "4b3f662c",
   "metadata": {},
   "outputs": [],
   "source": [
    "len(df_materias_pesquisar.loc[df_materias_pesquisar['PegouDetalhe'] == False])"
   ]
  },
  {
   "cell_type": "code",
   "execution_count": null,
   "id": "a249737e",
   "metadata": {},
   "outputs": [],
   "source": [
    "len(df_materias_pesquisar.loc[df_materias_pesquisar['PegouDetalhe'] == True])"
   ]
  },
  {
   "cell_type": "code",
   "execution_count": null,
   "id": "89767b0f",
   "metadata": {},
   "outputs": [],
   "source": [
    "df_detalhes_materias.to_csv('df_detalhes_materias.csv',index = False)\n"
   ]
  },
  {
   "cell_type": "code",
   "execution_count": null,
   "id": "dbcb4f23",
   "metadata": {},
   "outputs": [],
   "source": [
    "len(df_detalhes_materias)"
   ]
  },
  {
   "cell_type": "markdown",
   "id": "aa674895",
   "metadata": {},
   "source": [
    "# Limpando a df_detalhes_materias"
   ]
  },
  {
   "cell_type": "code",
   "execution_count": null,
   "id": "52e60470",
   "metadata": {},
   "outputs": [],
   "source": [
    "df_detalhes_materias = pd.read_csv(\"df_detalhes_materias.csv\",sep=\",\")\n",
    "# Juntando os CodigoMateria das matérias da legislatura atual e das matérias de interesse\n",
    "df_materias_legislatura_atual = get_materias_legislatura_atual()\n",
    "df_materias_legislatura_atual = df_materias_legislatura_atual.query('Tramitando == \"Sim\"')\n",
    "df_materias_legislatura_atual['CodigoMateria'] = df_materias_legislatura_atual['CodigoMateria'].astype(int)\n",
    "df_interesse_combinado = pd.read_csv('interesse.csv')\n"
   ]
  },
  {
   "cell_type": "code",
   "execution_count": null,
   "id": "0c0e6d10",
   "metadata": {},
   "outputs": [],
   "source": [
    "df_materias_legislatura_atual"
   ]
  },
  {
   "cell_type": "code",
   "execution_count": null,
   "id": "b7b71801",
   "metadata": {},
   "outputs": [],
   "source": [
    "df_interesse_combinado"
   ]
  },
  {
   "cell_type": "code",
   "execution_count": null,
   "id": "07000693",
   "metadata": {},
   "outputs": [],
   "source": [
    "mask1 = df_detalhes_materias['CodigoMateria'].isin(df_materias_legislatura_atual['CodigoMateria'])\n",
    "mask2 = df_detalhes_materias['CodigoMateria'].isin(df_interesse_combinado['CodigoMateria'])\n",
    "mascara_final =  (mask1 | mask2)\n",
    "#df_detalhes_materias_new = df_detalhes_materias[mascara_final]\n",
    "df_detalhes_materias = df_detalhes_materias[mascara_final]"
   ]
  },
  {
   "cell_type": "code",
   "execution_count": null,
   "id": "83845f26",
   "metadata": {},
   "outputs": [],
   "source": [
    "len(df_detalhes_materias)"
   ]
  },
  {
   "cell_type": "code",
   "execution_count": null,
   "id": "0a1dbe54",
   "metadata": {},
   "outputs": [],
   "source": [
    "len(df_detalhes_materias_new)"
   ]
  },
  {
   "cell_type": "code",
   "execution_count": null,
   "id": "849b0ae1",
   "metadata": {},
   "outputs": [],
   "source": [
    "df_detalhes_materias[~df_detalhes_materias['CodigoMateria'].isin(df_detalhes_materias_new['CodigoMateria'])].to_csv('materias_excluir.csv')"
   ]
  },
  {
   "cell_type": "code",
   "execution_count": null,
   "id": "4835e16b",
   "metadata": {},
   "outputs": [],
   "source": [
    "df_detalhes_materias.head(5)"
   ]
  },
  {
   "cell_type": "code",
   "execution_count": null,
   "id": "835a963c",
   "metadata": {},
   "outputs": [],
   "source": [
    "df_detalhes_materias = df_detalhes_materias.drop_duplicates(subset='CodigoMateria', keep='first')\n",
    "#df_detalhes_materias = df_detalhes_materias.drop(columns=['Unnamed: 0.5','Unnamed: 0.4','Unnamed: 0.3','Unnamed: 0.2','Unnamed: 0.1','Unnamed: 0' ])"
   ]
  },
  {
   "cell_type": "code",
   "execution_count": null,
   "id": "74cea900",
   "metadata": {},
   "outputs": [],
   "source": [
    "df_detalhes_materias.to_csv('df_detalhes_materias.csv',index = False)"
   ]
  },
  {
   "cell_type": "code",
   "execution_count": null,
   "id": "fd5e7cc8",
   "metadata": {},
   "outputs": [],
   "source": [
    "df_detalhes_materias"
   ]
  },
  {
   "cell_type": "markdown",
   "id": "b95da484",
   "metadata": {},
   "source": [
    "# Alimentando a coluna \"tramitando\""
   ]
  },
  {
   "cell_type": "code",
   "execution_count": null,
   "id": "da55284f",
   "metadata": {},
   "outputs": [],
   "source": [
    "df_detalhes_materias = pd.read_csv(\"df_detalhes_materias.csv\")"
   ]
  },
  {
   "cell_type": "code",
   "execution_count": null,
   "id": "506aba19",
   "metadata": {},
   "outputs": [],
   "source": [
    "df_detalhes_materias.head(2)"
   ]
  },
  {
   "cell_type": "code",
   "execution_count": null,
   "id": "304b16a7",
   "metadata": {},
   "outputs": [],
   "source": [
    "len(df_detalhes_materias)"
   ]
  },
  {
   "cell_type": "code",
   "execution_count": null,
   "id": "a2694dfc",
   "metadata": {},
   "outputs": [],
   "source": [
    "df_materias_tramitando = get_materias_tramitando()\n",
    "df_materias_tramitando['CodigoMateria'] = df_materias_tramitando['CodigoMateria'].astype(int)"
   ]
  },
  {
   "cell_type": "code",
   "execution_count": null,
   "id": "7fdb2182",
   "metadata": {},
   "outputs": [],
   "source": [
    "len(df_materias_tramitando)"
   ]
  },
  {
   "cell_type": "code",
   "execution_count": null,
   "id": "89ec792f",
   "metadata": {},
   "outputs": [],
   "source": [
    "df_detalhes_materias['Tramitando'] = df_detalhes_materias.apply(\n",
    "    lambda row: isMateriaTramitando(row['CodigoMateria'],df_materias_tramitando),axis = 1)"
   ]
  },
  {
   "cell_type": "code",
   "execution_count": null,
   "id": "a4a744b6",
   "metadata": {},
   "outputs": [],
   "source": [
    "df_detalhes_materias"
   ]
  },
  {
   "cell_type": "code",
   "execution_count": null,
   "id": "bcdc34b7",
   "metadata": {},
   "outputs": [],
   "source": [
    "df_detalhes_materias.to_csv('df_detalhes_materias.csv',index = False)"
   ]
  },
  {
   "cell_type": "markdown",
   "id": "9dc91b7e",
   "metadata": {},
   "source": [
    "## Pegando as emendas das matérias"
   ]
  },
  {
   "cell_type": "code",
   "execution_count": null,
   "id": "618ed503",
   "metadata": {},
   "outputs": [],
   "source": [
    "df_materias_pesquisar = pd.DataFrame(df_detalhes_materias)\n",
    "df_materias_pesquisar['PegouDetalhe'] = False\n",
    "df_emendas = pd.DataFrame()    "
   ]
  },
  {
   "cell_type": "code",
   "execution_count": null,
   "id": "624899e3",
   "metadata": {},
   "outputs": [],
   "source": [
    "materias_aux = df_materias_pesquisar.loc[df_materias_pesquisar['PegouDetalhe'] == False]\n",
    "for codigo, row in materias_aux.iterrows():    \n",
    "    codigo_materia = row['CodigoMateria']    \n",
    "    df_emendas_da_materia = get_emendas_materia(int(codigo_materia))    \n",
    "    df_emendas = pd.concat([df_emendas,df_emendas_da_materia])    \n",
    "    df_materias_pesquisar.at[codigo, 'PegouDetalhe'] = True    "
   ]
  },
  {
   "cell_type": "code",
   "execution_count": null,
   "id": "5fbd5224",
   "metadata": {},
   "outputs": [],
   "source": [
    "len(df_materias_pesquisar.loc[df_materias_pesquisar['PegouDetalhe'] == False])"
   ]
  },
  {
   "cell_type": "code",
   "execution_count": null,
   "id": "173d1d8d",
   "metadata": {},
   "outputs": [],
   "source": [
    "len(df_materias_pesquisar.loc[df_materias_pesquisar['PegouDetalhe'] == True])"
   ]
  },
  {
   "cell_type": "code",
   "execution_count": null,
   "id": "b8a9c068",
   "metadata": {},
   "outputs": [],
   "source": [
    "len(df_emendas)"
   ]
  },
  {
   "cell_type": "code",
   "execution_count": null,
   "id": "a7503e96",
   "metadata": {},
   "outputs": [],
   "source": [
    "df_emendas = df_emendas.reset_index()"
   ]
  },
  {
   "cell_type": "code",
   "execution_count": null,
   "id": "ca2c89bf",
   "metadata": {},
   "outputs": [],
   "source": [
    "df_emendas.to_csv('df_emendas.csv',index = False)"
   ]
  },
  {
   "cell_type": "code",
   "execution_count": null,
   "id": "5cfd157b",
   "metadata": {},
   "outputs": [],
   "source": [
    "df_emendas"
   ]
  }
 ],
 "metadata": {
  "kernelspec": {
   "display_name": "Python 3 (ipykernel)",
   "language": "python",
   "name": "python3"
  },
  "language_info": {
   "codemirror_mode": {
    "name": "ipython",
    "version": 3
   },
   "file_extension": ".py",
   "mimetype": "text/x-python",
   "name": "python",
   "nbconvert_exporter": "python",
   "pygments_lexer": "ipython3",
   "version": "3.9.13"
  }
 },
 "nbformat": 4,
 "nbformat_minor": 5
}
