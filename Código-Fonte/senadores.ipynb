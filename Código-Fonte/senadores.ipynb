{
 "cells": [
  {
   "cell_type": "code",
   "execution_count": null,
   "id": "d14a6752",
   "metadata": {},
   "outputs": [],
   "source": [
    "#!pip install import-ipynb\n",
    "import pandas as pd\n",
    "import numpy as np\n",
    "import requests as rq\n",
    "import import_ipynb\n",
    "import util as u\n",
    "import xml.etree.ElementTree as ET\n",
    "from bs4 import BeautifulSoup\n",
    "pd.set_option('display.max_colwidth', None)\n",
    "from datetime import datetime\n",
    "from dateutil.relativedelta import relativedelta"
   ]
  },
  {
   "cell_type": "code",
   "execution_count": null,
   "id": "d93152e9",
   "metadata": {},
   "outputs": [],
   "source": [
    "def get_senadores():    \n",
    "    url = \"https://legis.senado.leg.br/dadosabertos/senador/lista/atual\"\n",
    "    df_senadores = u.parse_XML(url,[\"CodigoParlamentar\",\"NomeParlamentar\",\"SiglaPartidoParlamentar\",\"UfParlamentar\"],'Parlamentares/Parlamentar/IdentificacaoParlamentar')\n",
    "    df_senadores = df_senadores.set_index(\"CodigoParlamentar\")\n",
    "    return df_senadores"
   ]
  },
  {
   "cell_type": "code",
   "execution_count": null,
   "id": "30279483",
   "metadata": {},
   "outputs": [],
   "source": [
    "def get_relatorias_do_senador(codigo_parlamentar):\n",
    "    url = \"https://legis.senado.leg.br/dadosabertos/senador/%d/relatorias\" % codigo_parlamentar\n",
    "    df = u.parse_XML(url, [\"Materia/Codigo\",\"Materia/DescricaoIdentificacao\",\"Comissao/Sigla\",\"CodigoTipoRelator\",\"DataDesignacao\",\"DataDestituicao\",\"DescricaoMotivoDestituicao\", \"DescricaoTipoRelator\"]\n",
    ",\"Parlamentar/Relatorias/Relatoria\")\n",
    "    df.rename(columns = {'Materia/Codigo' : 'CodigoMateria','Materia/DescricaoIdentificacao':'Identificacao','Comissao/Sigla' :'LocalRelatoria'}, inplace = True)\n",
    "    \n",
    "    df['CodigoParlamentar'] = codigo_parlamentar\n",
    "    df['CodigoMateria'] = pd.to_numeric(df['CodigoMateria'])\n",
    "    df['DataDesignacao'] = pd.to_datetime(df['DataDesignacao'])\n",
    "    df['DataDestituicao'] = pd.to_datetime(df['DataDestituicao'])\n",
    "    df['DataDesignacao'] = (df['DataDesignacao']\n",
    "                          .astype(str) # <- cast to string to simplify\n",
    "                                       #    .replace() in newer versions\n",
    "                          .replace({'NaT': None} # <- replace with None\n",
    "                         ))\n",
    "    df['DataDestituicao'] = (df['DataDestituicao']\n",
    "                          .astype(str) # <- cast to string to simplify\n",
    "                                       #    .replace() in newer versions\n",
    "                          .replace({'NaT': None} # <- replace with None\n",
    "                         ))\n",
    "    return df  \n",
    "    "
   ]
  },
  {
   "cell_type": "code",
   "execution_count": null,
   "id": "df6aef25",
   "metadata": {},
   "outputs": [],
   "source": [
    "def get_relatorias_de_senadores(senadores_a_serem_pesquisados):    \n",
    "    relatorias_atualizadas = pd.DataFrame()    \n",
    "    for codigoParlamentar, sen in senadores_a_serem_pesquisados.iterrows():            \n",
    "        relatorias_do_senador = get_relatorias_do_senador(int(codigoParlamentar))    \n",
    "        relatorias_atualizadas = pd.concat([relatorias_atualizadas,relatorias_do_senador])\n",
    "    \n",
    "    return relatorias_atualizadas"
   ]
  },
  {
   "cell_type": "code",
   "execution_count": null,
   "id": "7af463c2",
   "metadata": {},
   "outputs": [],
   "source": [
    "def get_autorias_do_senador(codigo_parlamentar):    \n",
    "    url = \"https://legis.senado.leg.br/dadosabertos/senador/%d/autorias\" % codigo_parlamentar\n",
    "    df = u.parse_XML(url, [\"Materia/Codigo\",\"Materia/DescricaoIdentificacao\",\"Materia/Ementa\",\"Materia/Data\",\"IndicadorAutorPrincipal\"]\n",
    "    ,\"Parlamentar/Autorias/Autoria\")\n",
    "    df.rename(columns = {'Materia/Codigo' : 'CodigoMateria'}, inplace = True)\n",
    "    df.rename(columns = {'Materia/DescricaoIdentificacao' : 'Identificacao'}, inplace = True)\n",
    "    df.rename(columns = {'Materia/Ementa' : 'Ementa'}, inplace = True)\n",
    "    df.rename(columns = {'Materia/Data' : 'Data'}, inplace = True)\n",
    "    df['CodigoParlamentar'] = codigo_parlamentar\n",
    "    df['CodigoMateria'] = pd.to_numeric(df['CodigoMateria'])\n",
    "    df['Data'] = pd.to_datetime(df['Data'])\n",
    "    df['Data'] = (df['Data']\n",
    "                          .astype(str) # <- cast to string to simplify\n",
    "                                       #    .replace() in newer versions\n",
    "                          .replace({'NaT': None} # <- replace with None\n",
    "                         ))\n",
    "    return df  "
   ]
  },
  {
   "cell_type": "code",
   "execution_count": null,
   "id": "1a28d260",
   "metadata": {},
   "outputs": [],
   "source": [
    "def get_autorias_dos_senadores(senadores_a_serem_pesquisados):    \n",
    "    autorias_dos_senadores = pd.DataFrame()    \n",
    "    for codigoParlamentar, sen in senadores_a_serem_pesquisados.iterrows():            \n",
    "        autorias_do_senador = get_autorias_do_senador(int(codigoParlamentar))    \n",
    "        autorias_dos_senadores = pd.concat([autorias_dos_senadores,autorias_do_senador])\n",
    "    \n",
    "    return autorias_dos_senadores"
   ]
  },
  {
   "cell_type": "code",
   "execution_count": null,
   "id": "807ddd32",
   "metadata": {},
   "outputs": [],
   "source": [
    "def get_url_discursos(codigo_parlamentar, ano):\n",
    "    dataInicio = str(ano) + \"0101\"\n",
    "    dataFim = str(ano) + \"1231\"\n",
    "    urlDiscursos = \"https://legis.senado.leg.br/dadosabertos/senador/\"+str(codigo_parlamentar)+\"/discursos?dataInicio=\"+dataInicio+\"%d&dataFim=\"+dataFim\n",
    "    df = u.parse_XML(urlDiscursos,[\"CodigoPronunciamento\",\"UrlTexto\"],\"Parlamentar/Pronunciamentos/Pronunciamento\")\n",
    "    df = df.set_index('CodigoPronunciamento')\n",
    "    return df"
   ]
  },
  {
   "cell_type": "code",
   "execution_count": null,
   "id": "3a12f5f8",
   "metadata": {},
   "outputs": [],
   "source": [
    "def get_discurso(url): \n",
    "    page = rq.get(url)\n",
    "    soup = BeautifulSoup(page.text, 'html.parser')\n",
    "    texto = soup.find(class_='texto-integral')\n",
    "    if not texto:\n",
    "        return None\n",
    "    else:\n",
    "        return limpar_texto(texto.get_text())"
   ]
  },
  {
   "cell_type": "code",
   "execution_count": null,
   "id": "f71177f2",
   "metadata": {},
   "outputs": [],
   "source": [
    "def limpar_texto(texto):\n",
    "    lixo_carac = ['\\n','\\t', '\\r', '\\xa0', 'â\\x80\\x93']\n",
    "    for char in lixo_carac:\n",
    "        texto = texto.replace(char, '')\n",
    "\n",
    "    return texto"
   ]
  },
  {
   "cell_type": "code",
   "execution_count": null,
   "id": "2779b4bc",
   "metadata": {},
   "outputs": [],
   "source": [
    "def get_discursos(parlamentares_a_serem_pesquisados,ano_inicio,ano_fim):\n",
    "    df_discursos = pd.DataFrame()\n",
    "    for codigo, row in parlamentares_a_serem_pesquisados.iterrows():    \n",
    "        try: \n",
    "            for ano in range(ano_inicio, ano_fim):\n",
    "                df_discurso_sen = get_url_discursos(codigo,ano)\n",
    "                df_discurso_sen['texto'] = df_discurso_sen['UrlTexto'].apply(get_discurso)\n",
    "                df_discurso_sen['CodigoParlamentar'] = codigo\n",
    "                df_discursos = pd.concat([df_discursos,df_discurso_sen])\n",
    "            #materias_legislatura_atual.at[codigo, 'PegouDetalhe'] = True    \n",
    "        except TimeoutError:\n",
    "            print (\"não achei %s\" % codigo)\n",
    "    return df_discursos"
   ]
  },
  {
   "cell_type": "code",
   "execution_count": null,
   "id": "c26644fe",
   "metadata": {},
   "outputs": [],
   "source": [
    "def get_interesse_relatoria(data_designacao, data_destituicao, motivo_destituicao,descricao_tipo_relator, local_relatoria):\n",
    "    valor_interesse = 0\n",
    "    justificativa_interesse = None\n",
    "    #Começa calculando há quantos anos foi designado como relator\n",
    "    hoje = datetime.today()\n",
    "    data_designacao_format =  datetime.strptime(data_designacao, '%Y-%m-%d')\n",
    "    anos_relatoria = relativedelta(hoje, data_designacao_format).years\n",
    "    \n",
    "    #Atribui o interesse\n",
    "    if (not data_destituicao):\n",
    "        #É o relator atual\n",
    "        if (anos_relatoria<1):\n",
    "            valor_interesse =  4\n",
    "            justificativa_interesse = \"Relator atual designado há menos de 1 ano em \" + local_relatoria\n",
    "        elif (anos_relatoria<3):\n",
    "            valor_interesse =  3\n",
    "            justificativa_interesse = \"Relator atual designado há menos de 3 anos em \" + local_relatoria\n",
    "        else:\n",
    "            valor_interesse =  2\n",
    "            justificativa_interesse = \"Relator atual designado há mais de 3 anos em \" + local_relatoria\n",
    "    \n",
    "    #Não é o relator atual    \n",
    "    if (motivo_destituicao == 'Redistribuição'):\n",
    "        valor_interesse =  -5\n",
    "        justificativa_interesse = \"Foi relator mas houve redistribuição da relatoria em \" + local_relatoria\n",
    "    if (descricao_tipo_relator == 'Relator Ad hoc'):\n",
    "        valor_interesse =  1     \n",
    "        justificativa_interesse = \"Foi relator ad hoc em \" + local_relatoria\n",
    "    if (motivo_destituicao == 'Deliberação da matéria' or motivo_destituicao == 'Matéria deliberada no plenário'\n",
    "       or motivo_destituicao == 'Parecer de Plenário' or motivo_destituicao == 'Parecer Oferecido'\n",
    "       ):\n",
    "        data_destituicao_format = datetime.strptime(data_designacao, '%Y-%m-%d')\n",
    "        anos_destituicao = relativedelta(hoje, data_destituicao_format).years\n",
    "        if (anos_destituicao<1):\n",
    "            valor_interesse =  7\n",
    "            justificativa_interesse = \"Relatou a matéria há menos de 1 ano em \" + local_relatoria\n",
    "        elif (anos_destituicao<3):\n",
    "            valor_interesse =  6\n",
    "            justificativa_interesse = \"Relatou a matéria há menos de 3 anos em \" + local_relatoria\n",
    "        else:\n",
    "            valor_interesse =  5\n",
    "            justificativa_interesse = \"Relatou a matéria há mais de 3 anos em \" + local_relatoria\n",
    "    \n",
    "    #É atribuído 0 quando a Matéria é prejudicada, ou seja, a relatoria não se efetivou de fato\n",
    "    if (justificativa_interesse == None):\n",
    "        valor_interesse = 0\n",
    "        justificativa_interesse = \"Foi designado como relator mas a matéria foi prejudicada em \" + local_relatoria\n",
    "    \n",
    "    return pd.Series([valor_interesse, justificativa_interesse])"
   ]
  },
  {
   "cell_type": "code",
   "execution_count": null,
   "id": "a3b1e4dc",
   "metadata": {},
   "outputs": [],
   "source": [
    "def get_interesse_autoria(indicador_autor_principal,data, identificacao):\n",
    "    valor_interesse = 0\n",
    "    justificativa_interesse = None\n",
    "    hoje = datetime.today()\n",
    "    data_format =  datetime.strptime(data, '%Y-%m-%d')\n",
    "    anos_autoria = relativedelta(hoje, data_format).years\n",
    "    if (indicador_autor_principal == \"Sim\"):\n",
    "        if (anos_autoria<1):\n",
    "            valor_interesse = 7\n",
    "            justificativa_interesse = \"Autor principal da matéria há menos de 1 ano\"\n",
    "        elif (anos_autoria<3):\n",
    "            valor_interesse = 6\n",
    "            justificativa_interesse = \"Autor principal da matéria há menos de 3 anos\"\n",
    "        else:\n",
    "            valor_interesse = 5        \n",
    "            justificativa_interesse = \"Autor principal da matéria há mais de 3 ano\"\n",
    "    \n",
    "    else:\n",
    "        #não é autor principal\n",
    "        if (identificacao.startswith('PEC')):\n",
    "            valor_interesse = 0\n",
    "            justificativa_interesse = \"Co-autor de PEC\"\n",
    "        else:\n",
    "            if (anos_autoria<1):\n",
    "                valor_interesse = 5\n",
    "                justificativa_interesse = \"Co-autor da matéria há menos de 1 ano\"\n",
    "            elif (anos_autoria<3):\n",
    "                valor_interesse = 4\n",
    "                justificativa_interesse = \"Co-autor da matéria há menos de 3 anos\"\n",
    "            else:\n",
    "                valor_interesse = 3\n",
    "                justificativa_interesse = \"Co-autor da matéria há mais de 3 anos\"\n",
    "    #return valor_interesse,justificativa_interesse\n",
    "    return pd.Series([valor_interesse, justificativa_interesse])\n",
    "        "
   ]
  },
  {
   "cell_type": "code",
   "execution_count": null,
   "id": "ffb18e2c",
   "metadata": {},
   "outputs": [],
   "source": [
    "def get_interesse_emenda(data):\n",
    "    valor_interesse = 0\n",
    "    justificativa_interesse = None\n",
    "    hoje = datetime.today()\n",
    "    data_format =  datetime.strptime(data, '%Y-%m-%d')\n",
    "    anos_autoria = relativedelta(hoje, data_format).years    \n",
    "    if (anos_autoria<1):\n",
    "        valor_interesse = 7\n",
    "        justificativa_interesse = \"Autor de emenda há menos de 1 ano\"\n",
    "    elif (anos_autoria<3):\n",
    "        valor_interesse = 6\n",
    "        justificativa_interesse = \"Autor de emenda há menos de 3 anos\"\n",
    "    else:\n",
    "        valor_interesse = 5        \n",
    "        justificativa_interesse = \"Autor de emenda há mais de 3 anos\"\n",
    "    \n",
    "    \n",
    "    #return valor_interesse,justificativa_interesse\n",
    "    return pd.Series([valor_interesse, justificativa_interesse])\n",
    "        "
   ]
  },
  {
   "cell_type": "code",
   "execution_count": null,
   "id": "c1545a93",
   "metadata": {},
   "outputs": [],
   "source": [
    "def get_interesse_discurso(data,tipoDescricao):\n",
    "    valor_interesse = 0\n",
    "    justificativa_interesse = None\n",
    "    hoje = datetime.today()\n",
    "    data_format =  datetime.strptime(data, '%Y-%m-%d')\n",
    "    anos_discurso = relativedelta(hoje, data_format).years\n",
    "    if (anos_discurso<1):\n",
    "        valor_interesse = 5\n",
    "        justificativa_interesse = \"Discursou sobre a matéria (\"+tipoDescricao+\") há menos de 1 ano\"\n",
    "    elif (anos_discurso < 3):\n",
    "        valor_interesse = 4\n",
    "        justificativa_interesse = \"Discursou sobre a matéria (\"+tipoDescricao+\") há menos de 3 anos\"\n",
    "    else:\n",
    "        valor_interesse = 3\n",
    "        justificativa_interesse = \"Discursou sobre a matéria (\"+tipoDescricao+\") há mais de 3 anos\"\n",
    "    \n",
    "    return pd.Series([valor_interesse, justificativa_interesse])\n",
    "        "
   ]
  },
  {
   "cell_type": "markdown",
   "id": "e1921496",
   "metadata": {},
   "source": [
    "### Carrega os senadores da legislatura"
   ]
  },
  {
   "cell_type": "code",
   "execution_count": null,
   "id": "6aa75fd2",
   "metadata": {},
   "outputs": [],
   "source": [
    "#Recupera os senadores da 57ª legislatura\n",
    "df_senadores = get_senadores()"
   ]
  },
  {
   "cell_type": "code",
   "execution_count": null,
   "id": "6be6fcbc",
   "metadata": {},
   "outputs": [],
   "source": [
    "df_senadores"
   ]
  },
  {
   "cell_type": "code",
   "execution_count": null,
   "id": "39eb3907",
   "metadata": {},
   "outputs": [],
   "source": [
    "df_senadores.to_csv('df_senadores.csv')"
   ]
  },
  {
   "cell_type": "markdown",
   "id": "f19dba04",
   "metadata": {},
   "source": [
    "### Relatorias dos Senadores"
   ]
  },
  {
   "cell_type": "code",
   "execution_count": null,
   "id": "549c0c58",
   "metadata": {},
   "outputs": [],
   "source": [
    "# Recupera as relatorias dos senadores\n",
    "df_relatorias_senadores = get_relatorias_de_senadores(df_senadores) \n",
    "df_relatorias_senadores = df_relatorias_senadores[df_relatorias_senadores['Identificacao'].str.startswith(\"P\")]\n",
    "#Considera apenas as autorias desta legislatura e da anterir\n",
    "#df_relatorias_senadores = df_relatorias_senadores.query('DataDesignacao >= \"2019-01-01\" or DataDestituicao >= \"2019-01-01\"')"
   ]
  },
  {
   "cell_type": "code",
   "execution_count": null,
   "id": "84ca9d95",
   "metadata": {},
   "outputs": [],
   "source": [
    "df_relatorias_senadores"
   ]
  },
  {
   "cell_type": "code",
   "execution_count": null,
   "id": "09a6b5ba",
   "metadata": {},
   "outputs": [],
   "source": [
    "df_relatorias_senadores = df_relatorias_senadores.set_index('CodigoMateria')\n",
    "len(df_relatorias_senadores)"
   ]
  },
  {
   "cell_type": "code",
   "execution_count": null,
   "id": "f6ef5232",
   "metadata": {},
   "outputs": [],
   "source": [
    "#Atribui o nível de interesse do Senador naquela matéria\n",
    "df_relatorias_senadores[['interesse','justificativa_interesse']] = df_relatorias_senadores.apply(\n",
    "    lambda row: get_interesse_relatoria(row['DataDesignacao'], row['DataDestituicao'],row['DescricaoMotivoDestituicao'],row['DescricaoTipoRelator'],row['LocalRelatoria']),axis = 1)"
   ]
  },
  {
   "cell_type": "code",
   "execution_count": null,
   "id": "8c2d28fd",
   "metadata": {},
   "outputs": [],
   "source": [
    "df_relatorias_senadores.to_csv('df_relatorias.csv')"
   ]
  },
  {
   "cell_type": "markdown",
   "id": "1c0c3570",
   "metadata": {},
   "source": [
    "### Autorias dos Senadores"
   ]
  },
  {
   "cell_type": "code",
   "execution_count": null,
   "id": "1c78c8a1",
   "metadata": {},
   "outputs": [],
   "source": [
    "# Recupera as autorias dos senadores\n",
    "df_autorias_senadores = get_autorias_dos_senadores(df_senadores)  \n",
    "\n",
    "#Considera apenas as matérias iniciadas com a letra P\n",
    "df_autorias_senadores = df_autorias_senadores[df_autorias_senadores['Identificacao'].str.startswith(\"P\")]"
   ]
  },
  {
   "cell_type": "code",
   "execution_count": null,
   "id": "1df4b387",
   "metadata": {},
   "outputs": [],
   "source": [
    "df_autorias_senadores"
   ]
  },
  {
   "cell_type": "code",
   "execution_count": null,
   "id": "e5749908",
   "metadata": {},
   "outputs": [],
   "source": [
    "#Atribui o nível de interesse na autoria\n",
    "df_autorias_senadores[['interesse','justificativa_interesse']] = df_autorias_senadores.apply(\n",
    "    lambda row: get_interesse_autoria(row['IndicadorAutorPrincipal'],row['Data'],row['Identificacao']),axis = 1)\n"
   ]
  },
  {
   "cell_type": "code",
   "execution_count": null,
   "id": "1a91d2ff",
   "metadata": {},
   "outputs": [],
   "source": [
    "df_autorias_senadores = df_autorias_senadores.set_index('CodigoMateria')\n",
    "len(df_autorias_senadores)"
   ]
  },
  {
   "cell_type": "code",
   "execution_count": null,
   "id": "622064e3",
   "metadata": {},
   "outputs": [],
   "source": [
    "df_autorias_senadores.to_csv('df_autorias.csv')"
   ]
  },
  {
   "cell_type": "code",
   "execution_count": null,
   "id": "5e3e8f0a",
   "metadata": {},
   "outputs": [],
   "source": [
    "df_autorias_senadores"
   ]
  },
  {
   "cell_type": "markdown",
   "id": "a57c6de5",
   "metadata": {},
   "source": [
    "## Discursos dos senadores"
   ]
  },
  {
   "cell_type": "code",
   "execution_count": null,
   "id": "f297f109",
   "metadata": {},
   "outputs": [],
   "source": [
    "# Recupera os discursos dos senadores\n",
    "df_discursos_senadores = pd.read_csv('df_discursos.csv')\n",
    "df_discursos_senadores.rename(columns={'codigoMateria': 'CodigoMateria','codigoParlamentar' : 'CodigoParlamentar'}, inplace=True)"
   ]
  },
  {
   "cell_type": "code",
   "execution_count": null,
   "id": "b099ac5c",
   "metadata": {},
   "outputs": [],
   "source": [
    "#Atribui o nível de interesse nos discursos\n",
    "df_discursos_senadores[['interesse','justificativa_interesse']] = df_discursos_senadores.apply(\n",
    "    lambda row: get_interesse_discurso(row['dataDiscurso'],row['tipoDescricao']),axis = 1)\n"
   ]
  },
  {
   "cell_type": "code",
   "execution_count": null,
   "id": "1ddb0e9a",
   "metadata": {},
   "outputs": [],
   "source": [
    "df_discursos_senadores"
   ]
  },
  {
   "cell_type": "code",
   "execution_count": null,
   "id": "de57c585",
   "metadata": {},
   "outputs": [],
   "source": [
    "df_discursos_senadores = df_discursos_senadores.set_index('CodigoMateria')\n",
    "len(df_discursos_senadores)"
   ]
  },
  {
   "cell_type": "code",
   "execution_count": null,
   "id": "95aab916",
   "metadata": {},
   "outputs": [],
   "source": [
    "df_discursos_senadores"
   ]
  },
  {
   "cell_type": "markdown",
   "id": "33f00681",
   "metadata": {},
   "source": [
    "## Emendas dos Senadores"
   ]
  },
  {
   "cell_type": "code",
   "execution_count": null,
   "id": "72588769",
   "metadata": {},
   "outputs": [],
   "source": [
    "# Recupera os discursos dos senadores\n",
    "df_emendas_senadores = pd.read_csv('df_emendas.csv')"
   ]
  },
  {
   "cell_type": "code",
   "execution_count": null,
   "id": "b8d80c78",
   "metadata": {},
   "outputs": [],
   "source": [
    "df_emendas_senadores"
   ]
  },
  {
   "cell_type": "code",
   "execution_count": null,
   "id": "0ae63593",
   "metadata": {},
   "outputs": [],
   "source": [
    "df_emendas_senadores = df_emendas_senadores[df_emendas_senadores['CodigoParlamentar'].notna()]"
   ]
  },
  {
   "cell_type": "code",
   "execution_count": null,
   "id": "d8f8a6d7",
   "metadata": {},
   "outputs": [],
   "source": [
    "df_emendas_senadores = df_emendas_senadores[df_emendas_senadores.CodigoParlamentar.astype(int).isin(df_senadores.index.astype(int))]"
   ]
  },
  {
   "cell_type": "code",
   "execution_count": null,
   "id": "8fa925fa",
   "metadata": {},
   "outputs": [],
   "source": [
    "#Atribui o nível de interesse nas emendas\n",
    "df_emendas_senadores[['interesse','justificativa_interesse']] = df_emendas_senadores.apply(\n",
    "    lambda row: get_interesse_emenda(row['DataApresentacao']),axis = 1)"
   ]
  },
  {
   "cell_type": "code",
   "execution_count": null,
   "id": "e95139ca",
   "metadata": {},
   "outputs": [],
   "source": [
    "df_emendas_senadores = df_emendas_senadores.set_index('CodigoMateria')\n",
    "len(df_emendas_senadores)"
   ]
  },
  {
   "cell_type": "code",
   "execution_count": null,
   "id": "bc71b2b0",
   "metadata": {},
   "outputs": [],
   "source": [
    "df_emendas_senadores"
   ]
  },
  {
   "cell_type": "markdown",
   "id": "64ee51dc",
   "metadata": {},
   "source": [
    "### Juntando conjuntos de dados de interesse do senador (relatorias, autorias, discursos e emendas)"
   ]
  },
  {
   "cell_type": "code",
   "execution_count": null,
   "id": "8a010007",
   "metadata": {},
   "outputs": [],
   "source": [
    "df_interesse = pd.concat([df_autorias_senadores[['CodigoParlamentar','interesse','justificativa_interesse']], \n",
    "                          df_relatorias_senadores[['CodigoParlamentar','interesse','justificativa_interesse']], \n",
    "                          df_discursos_senadores[['CodigoParlamentar','interesse','justificativa_interesse']],\n",
    "                         df_emendas_senadores[['CodigoParlamentar','interesse','justificativa_interesse']]])\n",
    "df_interesse = df_interesse.reset_index()\n",
    "df_interesse = df_interesse.drop_duplicates(subset=['CodigoParlamentar', 'CodigoMateria', 'interesse', 'justificativa_interesse'])"
   ]
  },
  {
   "cell_type": "code",
   "execution_count": null,
   "id": "568e629b",
   "metadata": {},
   "outputs": [],
   "source": [
    "import pandas as pd\n",
    "\n",
    "# Suponha que você tenha um DataFrame chamado df_interesse\n",
    "\n",
    "# Defina uma função personalizada para concatenar as justificativas\n",
    "def concatenar_justificativa(series):\n",
    "    return ' - '.join(series)\n",
    "\n",
    "# Crie um dicionário com as funções de agregação para cada coluna\n",
    "aggregation_functions = {\n",
    "    'interesse': 'sum',  # Somar os valores de Interesse\n",
    "    'justificativa_interesse': concatenar_justificativa  # Concatenar as justificativas\n",
    "}\n",
    "\n",
    "# Faça o group by por CodigoParlamentar e CodigoMateria e aplique as funções de agregação\n",
    "df_resultante = df_interesse.groupby(['CodigoParlamentar', 'CodigoMateria']).agg(aggregation_functions).reset_index()\n"
   ]
  },
  {
   "cell_type": "code",
   "execution_count": null,
   "id": "22bee3c5",
   "metadata": {},
   "outputs": [],
   "source": [
    "df_resultante"
   ]
  },
  {
   "cell_type": "code",
   "execution_count": null,
   "id": "72ca82a8",
   "metadata": {},
   "outputs": [],
   "source": [
    "#df_resultante.to_csv('df_resultado_interesse.csv')\n",
    "df_resultante.to_csv('interesse.csv')"
   ]
  },
  {
   "cell_type": "markdown",
   "id": "39a99ad0",
   "metadata": {},
   "source": [
    "## Atualização"
   ]
  },
  {
   "cell_type": "code",
   "execution_count": null,
   "id": "92b347a9",
   "metadata": {},
   "outputs": [],
   "source": [
    "df_senadores = get_senadores()\n",
    "\n",
    "# Recupera as relatorias dos senadores\n",
    "df_relatorias_senadores = get_relatorias_de_senadores(df_senadores) \n",
    "\n",
    "# Recupera as autorias dos senadores\n",
    "df_autorias_senadores = get_autorias_dos_senadores(df_senadores)  \n",
    "\n",
    "# Combine os DataFrames df_relatorias_senadores e df_autorias_senadores\n",
    "df_combinado = pd.concat([df_relatorias_senadores, df_autorias_senadores])\n",
    "df_combinado.to_csv('df_combinado.csv')\n"
   ]
  }
 ],
 "metadata": {
  "kernelspec": {
   "display_name": "Python 3 (ipykernel)",
   "language": "python",
   "name": "python3"
  },
  "language_info": {
   "codemirror_mode": {
    "name": "ipython",
    "version": 3
   },
   "file_extension": ".py",
   "mimetype": "text/x-python",
   "name": "python",
   "nbconvert_exporter": "python",
   "pygments_lexer": "ipython3",
   "version": "3.9.13"
  }
 },
 "nbformat": 4,
 "nbformat_minor": 5
}
